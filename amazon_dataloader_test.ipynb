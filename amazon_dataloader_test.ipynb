{
 "cells": [
  {
   "cell_type": "code",
   "execution_count": 1,
   "metadata": {},
   "outputs": [],
   "source": [
    "import os\n",
    "import json\n",
    "import gzip\n",
    "import pandas as pd\n",
    "from urllib.request import urlopen"
   ]
  },
  {
   "cell_type": "code",
   "execution_count": 2,
   "metadata": {},
   "outputs": [
    {
     "name": "stdout",
     "output_type": "stream",
     "text": [
      "--2022-03-24 13:48:55--  http://deepyeti.ucsd.edu/jianmo/amazon/categoryFiles/AMAZON_FASHION.json.gz\n",
      "Resolving deepyeti.ucsd.edu (deepyeti.ucsd.edu)... 169.228.63.50\n",
      "Connecting to deepyeti.ucsd.edu (deepyeti.ucsd.edu)|169.228.63.50|:80... connected.\n",
      "HTTP request sent, awaiting response... 200 OK\n",
      "Length: 93185167 (89M) [application/octet-stream]\n",
      "Saving to: ‘AMAZON_FASHION.json.gz’\n",
      "\n",
      "AMAZON_FASHION.json 100%[===================>]  88.87M  10.2MB/s    in 17s     \n",
      "\n",
      "2022-03-24 13:49:12 (5.28 MB/s) - ‘AMAZON_FASHION.json.gz’ saved [93185167/93185167]\n",
      "\n"
     ]
    }
   ],
   "source": [
    "#to see full data available visit: http://deepyeti.ucsd.edu/jianmo/amazon/index.html\n",
    "\n",
    "!wget http://deepyeti.ucsd.edu/jianmo/amazon/categoryFiles/AMAZON_FASHION.json.gz"
   ]
  },
  {
   "cell_type": "code",
   "execution_count": 3,
   "metadata": {},
   "outputs": [
    {
     "name": "stdout",
     "output_type": "stream",
     "text": [
      "883636\n",
      "{'overall': 5.0, 'verified': True, 'reviewTime': '10 20, 2014', 'reviewerID': 'A1D4G1SNUZWQOT', 'asin': '7106116521', 'reviewerName': 'Tracy', 'reviewText': 'Exactly what I needed.', 'summary': 'perfect replacements!!', 'unixReviewTime': 1413763200}\n"
     ]
    }
   ],
   "source": [
    "### load the meta data\n",
    "\n",
    "data = []\n",
    "with gzip.open('AMAZON_FASHION.json.gz') as f:\n",
    "    for l in f:\n",
    "        data.append(json.loads(l.strip()))\n",
    "    \n",
    "# total length of list, this number equals total number of products\n",
    "print(len(data))\n",
    "\n",
    "# first row of the list\n",
    "print(data[0])"
   ]
  },
  {
   "cell_type": "code",
   "execution_count": 6,
   "metadata": {},
   "outputs": [
    {
     "name": "stdout",
     "output_type": "stream",
     "text": [
      "883636\n"
     ]
    }
   ],
   "source": [
    "# convert list into pandas dataframe\n",
    "\n",
    "df = pd.DataFrame.from_dict(data)\n",
    "\n",
    "print(len(df))\n"
   ]
  },
  {
   "cell_type": "code",
   "execution_count": 10,
   "metadata": {},
   "outputs": [
    {
     "name": "stdout",
     "output_type": "stream",
     "text": [
      "Index(['overall', 'verified', 'reviewTime', 'reviewerID', 'asin',\n",
      "       'reviewerName', 'reviewText', 'summary', 'unixReviewTime', 'vote',\n",
      "       'style', 'image'],\n",
      "      dtype='object')\n"
     ]
    },
    {
     "data": {
      "text/plain": [
       "<bound method NDFrame.head of         overall  verified   reviewTime      reviewerID        asin  \\\n",
       "0           5.0      True  10 20, 2014  A1D4G1SNUZWQOT  7106116521   \n",
       "1           2.0      True  09 28, 2014  A3DDWDH9PX2YX2  7106116521   \n",
       "2           4.0     False  08 25, 2014  A2MWC41EW7XL15  7106116521   \n",
       "3           2.0      True  08 24, 2014  A2UH2QQ275NV45  7106116521   \n",
       "4           3.0     False  07 27, 2014   A89F3LQADZBS5  7106116521   \n",
       "...         ...       ...          ...             ...         ...   \n",
       "883631      5.0      True  02 21, 2017  A1ZSB2Q144UTEY  B01HJHTH5U   \n",
       "883632      5.0      True  11 25, 2016  A2CCDV0J5VB6F2  B01HJHTH5U   \n",
       "883633      3.0      True  11 10, 2016  A3O90PACS7B61K  B01HJHTH5U   \n",
       "883634      3.0      True  11 10, 2016  A2HO94I89U3LNH  B01HJHF97K   \n",
       "883635      5.0      True   08 9, 2016  A2RSX9E79DUHRX  B01HJG5NMW   \n",
       "\n",
       "               reviewerName  \\\n",
       "0                     Tracy   \n",
       "1                 Sonja Lau   \n",
       "2                  Kathleen   \n",
       "3               Jodi Stoner   \n",
       "4              Alexander D.   \n",
       "...                     ...   \n",
       "883631      Amazon Customer   \n",
       "883632      Amazon Customer   \n",
       "883633             Fabfifty   \n",
       "883634               Mgomez   \n",
       "883635  Natasha Mascarenhas   \n",
       "\n",
       "                                               reviewText  \\\n",
       "0                                  Exactly what I needed.   \n",
       "1       I agree with the other review, the opening is ...   \n",
       "2       Love these... I am going to order another pack...   \n",
       "3                                     too tiny an opening   \n",
       "4                                                    Okay   \n",
       "...                                                   ...   \n",
       "883631  I absolutely love this dress!!  It's sexy and ...   \n",
       "883632  I'm 5'6 175lbs. I'm on the tall side. I wear a...   \n",
       "883633                         Too big in the chest area!   \n",
       "883634                Too clear in the back, needs lining   \n",
       "883635  Ordered and was slightly small. Worked with th...   \n",
       "\n",
       "                                                  summary  unixReviewTime  \\\n",
       "0                                  perfect replacements!!      1413763200   \n",
       "1       I agree with the other review, the opening is ...      1411862400   \n",
       "2                                     My New 'Friends' !!      1408924800   \n",
       "3                                               Two Stars      1408838400   \n",
       "4                                             Three Stars      1406419200   \n",
       "...                                                   ...             ...   \n",
       "883631                       I absolutely love this dress      1487635200   \n",
       "883632  I wear a large and ordered a large and it stil...      1480032000   \n",
       "883633                                        Three Stars      1478736000   \n",
       "883634                                        Three Stars      1478736000   \n",
       "883635         The quality is excellent and it is so cute      1470700800   \n",
       "\n",
       "       vote style image  \n",
       "0       NaN   NaN   NaN  \n",
       "1         3   NaN   NaN  \n",
       "2       NaN   NaN   NaN  \n",
       "3       NaN   NaN   NaN  \n",
       "4       NaN   NaN   NaN  \n",
       "...     ...   ...   ...  \n",
       "883631  NaN   NaN   NaN  \n",
       "883632    2   NaN   NaN  \n",
       "883633  NaN   NaN   NaN  \n",
       "883634  NaN   NaN   NaN  \n",
       "883635  NaN   NaN   NaN  \n",
       "\n",
       "[883636 rows x 12 columns]>"
      ]
     },
     "execution_count": 10,
     "metadata": {},
     "output_type": "execute_result"
    }
   ],
   "source": [
    "print(df.columns)\n",
    "df.head"
   ]
  }
 ],
 "metadata": {
  "interpreter": {
   "hash": "e7370f93d1d0cde622a1f8e1c04877d8463912d04d973331ad4851f04de6915a"
  },
  "kernelspec": {
   "display_name": "Python 3.8.10 64-bit",
   "language": "python",
   "name": "python3"
  },
  "language_info": {
   "codemirror_mode": {
    "name": "ipython",
    "version": 3
   },
   "file_extension": ".py",
   "mimetype": "text/x-python",
   "name": "python",
   "nbconvert_exporter": "python",
   "pygments_lexer": "ipython3",
   "version": "3.8.10"
  },
  "orig_nbformat": 4
 },
 "nbformat": 4,
 "nbformat_minor": 2
}
