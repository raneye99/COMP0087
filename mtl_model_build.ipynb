{
 "cells": [
  {
   "cell_type": "code",
   "execution_count": 1,
   "metadata": {},
   "outputs": [],
   "source": [
    "#import libraries\n",
    "import pickle\n",
    "from collections import defaultdict\n",
    "import numpy as np\n",
    "import pandas as pd\n",
    "import os"
   ]
  },
  {
   "cell_type": "code",
   "execution_count": 3,
   "metadata": {},
   "outputs": [],
   "source": [
    "#load data\n",
    "\n",
    "#train\n",
    "text_tr = pickle.load(open('data/mosei/MOSEI/train_sentences.p',\"rb\"))\n",
    "emotion_tr = pickle.load(open('data/mosei/MOSEI/train_emotion.p', \"rb\"))\n",
    "sentiment_tr = pickle.load(open('data/mosei/MOSEI/train_sentiment.p', \"rb\"))\n",
    "\n",
    "#valid\n",
    "text_val = pickle.load(open('data/mosei/MOSEI/valid_sentences.p',\"rb\"))\n",
    "emotion_val = pickle.load(open('data/mosei/MOSEI/valid_emotion.p', \"rb\"))\n",
    "sentiment_val = pickle.load(open('data/mosei/MOSEI/valid_sentiment.p', \"rb\"))"
   ]
  },
  {
   "cell_type": "code",
   "execution_count": null,
   "metadata": {},
   "outputs": [],
   "source": []
  }
 ],
 "metadata": {
  "interpreter": {
   "hash": "e7370f93d1d0cde622a1f8e1c04877d8463912d04d973331ad4851f04de6915a"
  },
  "kernelspec": {
   "display_name": "Python 3.8.10 64-bit",
   "language": "python",
   "name": "python3"
  },
  "language_info": {
   "codemirror_mode": {
    "name": "ipython",
    "version": 3
   },
   "file_extension": ".py",
   "mimetype": "text/x-python",
   "name": "python",
   "nbconvert_exporter": "python",
   "pygments_lexer": "ipython3",
   "version": "3.8.10"
  },
  "orig_nbformat": 4
 },
 "nbformat": 4,
 "nbformat_minor": 2
}
