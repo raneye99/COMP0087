{
 "cells": [
  {
   "cell_type": "code",
   "execution_count": 32,
   "metadata": {},
   "outputs": [
    {
     "ename": "ModuleNotFoundError",
     "evalue": "No module named 'nltk'",
     "output_type": "error",
     "traceback": [
      "\u001b[0;31m---------------------------------------------------------------------------\u001b[0m",
      "\u001b[0;31mModuleNotFoundError\u001b[0m                       Traceback (most recent call last)",
      "\u001b[0;32m<ipython-input-32-c01c48845dec>\u001b[0m in \u001b[0;36m<module>\u001b[0;34m\u001b[0m\n\u001b[1;32m      5\u001b[0m \u001b[0;32mimport\u001b[0m \u001b[0mpandas\u001b[0m \u001b[0;32mas\u001b[0m \u001b[0mpd\u001b[0m\u001b[0;34m\u001b[0m\u001b[0;34m\u001b[0m\u001b[0m\n\u001b[1;32m      6\u001b[0m \u001b[0;32mimport\u001b[0m \u001b[0mos\u001b[0m\u001b[0;34m\u001b[0m\u001b[0;34m\u001b[0m\u001b[0m\n\u001b[0;32m----> 7\u001b[0;31m \u001b[0;32mimport\u001b[0m \u001b[0mnltk\u001b[0m\u001b[0;34m\u001b[0m\u001b[0;34m\u001b[0m\u001b[0m\n\u001b[0m\u001b[1;32m      8\u001b[0m \u001b[0;31m# import torch\u001b[0m\u001b[0;34m\u001b[0m\u001b[0;34m\u001b[0m\u001b[0;34m\u001b[0m\u001b[0m\n\u001b[1;32m      9\u001b[0m \u001b[0;31m# import torchtext\u001b[0m\u001b[0;34m\u001b[0m\u001b[0;34m\u001b[0m\u001b[0;34m\u001b[0m\u001b[0m\n",
      "\u001b[0;31mModuleNotFoundError\u001b[0m: No module named 'nltk'"
     ]
    }
   ],
   "source": [
    "#import libraries\n",
    "import pickle\n",
    "from collections import defaultdict\n",
    "import numpy as np\n",
    "import pandas as pd\n",
    "import os\n",
    "# import torch\n",
    "# import torchtext\n",
    "# import torch.nn as nn\n",
    "# import torch.nn.functional as F"
   ]
  },
  {
   "cell_type": "code",
   "execution_count": 8,
   "metadata": {},
   "outputs": [],
   "source": [
    "#load data\n",
    "\n",
    "#train\n",
    "text_tr = pickle.load(open('data/mosei/MOSEI/train_sentences.p',\"rb\"))\n",
    "emotion_tr = pickle.load(open('data/mosei/MOSEI/train_emotion.p', \"rb\"))\n",
    "sentiment_tr = pickle.load(open('data/mosei/MOSEI/train_sentiment.p', \"rb\"))\n",
    "#change sentimement to be binary\n",
    "sentiment_tr = {k: np.sign(v) for k,v in sentiment_tr.items()}\n",
    "\n",
    "\n",
    "#valid\n",
    "text_val = pickle.load(open('data/mosei/MOSEI/valid_sentences.p',\"rb\"))\n",
    "emotion_val = pickle.load(open('data/mosei/MOSEI/valid_emotion.p', \"rb\"))\n",
    "sentiment_val = pickle.load(open('data/mosei/MOSEI/valid_sentiment.p', \"rb\"))\n",
    "#change sentiement to be binary\n",
    "sentiment_val = {k: np.sign(v) for k,v in sentiment_val.items()}"
   ]
  },
  {
   "cell_type": "code",
   "execution_count": 28,
   "metadata": {},
   "outputs": [
    {
     "data": {
      "text/plain": [
       "<bound method NDFrame.head of                                                               text  \\\n",
       "--qXJuDtHPw[0]   [writer, sp, i, see, that, a, writer, is, some...   \n",
       "-571d8cVauQ[0]   [sp, this, is, rhett, reiger, white, caspian, ...   \n",
       "-571d8cVauQ[1]   [create, sp, however, again, on, a, low, budge...   \n",
       "-571d8cVauQ[2]   [was, sp, so, very, important, to, sp, go, out...   \n",
       "-I_e4mIh0yE[0]   [entrepreneurship, sp, in, the, united, states...   \n",
       "...                                                            ...   \n",
       "zjYEBwXGD8I[15]  [sp, with, sp, unlike, some, other, companies,...   \n",
       "zjYEBwXGD8I[16]  [their, fees, you, can, see, all, of, them, on...   \n",
       "zjYEBwXGD8I[17]  [website, sp, they, also, offer, sp, a, money,...   \n",
       "zk2jTlAtvSU[0]   [sp, they, differ, from, the, articles, of, in...   \n",
       "zk2jTlAtvSU[1]   [sp, they, also, discuss, sp, how, many, direc...   \n",
       "\n",
       "                                                      emotion sentiment  \n",
       "--qXJuDtHPw[0]           [0.6666667, 0.0, 0.0, 0.0, 0.0, 0.0]     [1.0]  \n",
       "-571d8cVauQ[0]                 [0.0, 0.0, 0.0, 0.0, 0.0, 0.0]     [0.0]  \n",
       "-571d8cVauQ[1]   [0.33333334, 0.33333334, 0.0, 0.0, 0.0, 0.0]    [-1.0]  \n",
       "-571d8cVauQ[2]          [0.33333334, 0.0, 0.0, 0.0, 0.0, 0.0]     [1.0]  \n",
       "-I_e4mIh0yE[0]          [0.0, 0.33333334, 0.0, 0.0, 0.0, 0.0]    [-1.0]  \n",
       "...                                                       ...       ...  \n",
       "zjYEBwXGD8I[15]                [0.0, 0.0, 0.0, 0.0, 0.0, 0.0]     [1.0]  \n",
       "zjYEBwXGD8I[16]         [0.33333334, 0.0, 0.0, 0.0, 0.0, 0.0]     [1.0]  \n",
       "zjYEBwXGD8I[17]         [0.33333334, 0.0, 0.0, 0.0, 0.0, 0.0]     [1.0]  \n",
       "zk2jTlAtvSU[0]   [0.33333334, 0.0, 0.0, 0.0, 0.0, 0.33333334]     [0.0]  \n",
       "zk2jTlAtvSU[1]    [0.0, 0.6666667, 0.0, 0.0, 0.33333334, 0.0]     [0.0]  \n",
       "\n",
       "[1871 rows x 3 columns]>"
      ]
     },
     "execution_count": 28,
     "metadata": {},
     "output_type": "execute_result"
    }
   ],
   "source": [
    "col_name = ['text','emotion','sentiment']\n",
    "#create pandas dataframe\n",
    "df_train = pd.DataFrame.from_dict([text_tr, emotion_tr, sentiment_tr]).T\n",
    "df_train.columns = col_name\n",
    "df_train.head\n",
    "\n",
    "df_val= pd.DataFrame.from_dict([text_val, emotion_val, sentiment_val]).T\n",
    "df_val.columns = col_name\n",
    "df_val.head"
   ]
  }
 ],
 "metadata": {
  "interpreter": {
   "hash": "e7370f93d1d0cde622a1f8e1c04877d8463912d04d973331ad4851f04de6915a"
  },
  "kernelspec": {
   "display_name": "Python 3.8.10 64-bit",
   "language": "python",
   "name": "python3"
  },
  "language_info": {
   "codemirror_mode": {
    "name": "ipython",
    "version": 3
   },
   "file_extension": ".py",
   "mimetype": "text/x-python",
   "name": "python",
   "nbconvert_exporter": "python",
   "pygments_lexer": "ipython3",
   "version": "3.8.10"
  },
  "orig_nbformat": 4
 },
 "nbformat": 4,
 "nbformat_minor": 2
}
