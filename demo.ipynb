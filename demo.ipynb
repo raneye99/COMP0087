{
 "cells": [
  {
   "cell_type": "markdown",
   "metadata": {},
   "source": [
    "Run the following chunk in order to clone the git repo into your google drive:\n",
    "\n",
    "Note: you will need to add a personal access token into the directory you will be cloning the repo into.\n",
    "\n",
    "If you are running locoally, or source files have already been provided please skip to the next cell"
   ]
  },
  {
   "cell_type": "code",
   "execution_count": null,
   "metadata": {},
   "outputs": [],
   "source": [
    "#set up\n",
    "gdrive_location = \"/content/drive/MyDrive/NLP\"\n",
    "pat_file = \"pat.json\"\n",
    "import subprocess\n",
    "import json\n",
    "from google.colab import drive\n",
    "import os\n",
    "import sys\n",
    "\n",
    "\n",
    "gdrive_mount = '/content/drive'\n",
    "# requires giving access to google drive account\n",
    "drive.mount(gdrive_mount)\n",
    "\n",
    "# change to relevant workspace \n",
    "# - google drive dir - where 'pat_file' should be found\n",
    "gdrive_dir = os.path.join(gdrive_mount, gdrive_location)\n",
    "work_dir = gdrive_dir\n",
    "\n",
    "#url for repo\n",
    "url = \":x-oauth-basic@github.com/raneye99/COMP0087\"\n",
    "\n",
    "#repo directory\n",
    "repo_dir = os.path.join(gdrive_dir, os.path.basename(url))\n",
    "\n",
    "# change to working directory\n",
    "# os.chdir(work_dir)\n",
    "assert os.path.exists(work_dir), f\"workspace directory: {work_dir} does not exist\"\n",
    "os.chdir(work_dir)\n",
    "# this is a bit long - would be good to reduce\n",
    "# if git directory does not exist - clone \n",
    "if not os.path.exists(repo_dir):\n",
    "    # get pat file - expected to be in work_dir\n",
    "    # pat expected to be dict: {\"pat\": \"<personal access token>\"}\n",
    "    with open(os.path.join(gdrive_dir, pat_file), \"r+\") as f:\n",
    "        pat = json.load(f)\n",
    "\n",
    "    # git clone\n",
    "    print(f\"cloning directory: {url}\")\n",
    "    git_clone = subprocess.check_output( [\"git\", \"clone\", f\"https://{pat['pat']}{url}\"] , shell=False)\n",
    "    print(git_clone)\n",
    "\n",
    "print(f\"changing directory to: {repo_dir}\")\n",
    "os.chdir(repo_dir)\n",
    "\n",
    "# --\n",
    "# change branch - review this\n",
    "# --\n",
    "\n",
    "try:\n",
    "    branch_name = \"main\"\n",
    "    git_checkout = subprocess.check_output([\"git\", \"checkout\", \"-t\", f\"origin/{branch_name}\"], shell=False)\n",
    "    print(git_checkout.decode(\"utf-8\") )\n",
    "except Exception as e:\n",
    "    git_checkout = subprocess.check_output([\"git\", \"checkout\",  f\"{branch_name}\"], shell=False)\n",
    "    print(git_checkout.decode(\"utf-8\") )\n",
    "\n",
    "# ---\n",
    "# git pull\n",
    "# ---\n",
    "# could be redunant if just clone, but whatever\n",
    "\n",
    "git_pull = subprocess.check_output([\"git\", \"pull\"], shell=False)\n",
    "print(git_pull.decode(\"utf-8\") )\n",
    "\n",
    "\n",
    "if repo_dir not in sys.path:\n",
    "    print(f\"adding {repo_dir} to sys.path\")\n",
    "    sys.path.extend([repo_dir])\n"
   ]
  },
  {
   "cell_type": "code",
   "execution_count": 1,
   "metadata": {},
   "outputs": [],
   "source": [
    "#import libraries\n",
    "import pickle\n",
    "from collections import defaultdict\n",
    "from urllib.request import urlopen\n",
    "import numpy as np\n",
    "import pandas as pd\n",
    "import os\n",
    "import h5py\n",
    "import sys\n",
    "import requests\n",
    "import zipfile\n",
    "import inspect"
   ]
  },
  {
   "cell_type": "markdown",
   "metadata": {},
   "source": [
    "#Download Data"
   ]
  },
  {
   "cell_type": "code",
   "execution_count": 1,
   "metadata": {},
   "outputs": [],
   "source": [
    "\n",
    "\n",
    "#file located here: https://drive.google.com/file/d/1tcVYIMcZdlDzGuJvnMtbMchKIK9ulW1P/view\n",
    "\n",
    "#make data directory if doesn't exist in path folder\n",
    "os.makedirs('data', exist_ok=True)\n",
    "\n",
    "#download meld and mosei zip files for data (mosei is from CMU, meld is friends episodes)\n",
    "if('mosei' in  os.listdir('data')):\n",
    "    pass\n",
    "else:\n",
    "    !file=1tcVYIMcZdlDzGuJvnMtbMchKIK9ulW1P && wget --load-cookies /tmp/cookies.txt \"https://docs.google.com/uc?export=download&confirm=$(wget --quiet --save-cookies /tmp/cookies.txt --keep-session-cookies --no-check-certificate 'https://docs.google.com/uc?export=download&id='${file} -O- | sed -rn 's/.*confirm=([0-9A-Za-z_]+).*/\\1\\n/p')&id=\"${file} -O data/data.zip && rm -rf /tmp/cookies.txt\n",
    "\n",
    "    #unzip data\n",
    "    !unzip data/data.zip -d data/mosei"
   ]
  },
  {
   "cell_type": "markdown",
   "metadata": {},
   "source": [
    "#Preprocess our Data"
   ]
  },
  {
   "cell_type": "code",
   "execution_count": 2,
   "metadata": {},
   "outputs": [
    {
     "name": "stderr",
     "output_type": "stream",
     "text": [
      "[nltk_data] Downloading package punkt to /home/eileen/nltk_data...\n",
      "[nltk_data]   Package punkt is already up-to-date!\n"
     ]
    },
    {
     "name": "stdout",
     "output_type": "stream",
     "text": [
      "Training data sentiment statistics\n",
      "3.0    6795\n",
      "4.0    4120\n",
      "2.0    2040\n",
      "5.0    1549\n",
      "1.0    1305\n",
      "Name: sentiment, dtype: int64\n",
      "Test data sentiment statistics\n",
      "3.0    1927\n",
      "4.0    1230\n",
      "2.0     554\n",
      "5.0     441\n",
      "1.0     399\n",
      "Name: sentiment, dtype: int64\n",
      "Validation data sentiment statistics\n",
      "3.0    835\n",
      "4.0    470\n",
      "2.0    244\n",
      "5.0    169\n",
      "1.0    110\n",
      "Name: sentiment, dtype: int64\n",
      "[ 'line ' 'sp ' 'but ' 'sp ' 'he ' 'his ' 'stutter ' 'character ' 'sp ' `` did n't '' 'seem ' 'very ' 'strong ' 'the ' 'sp ' 'supporting ' ]\n",
      "Number of unique words: 20377\n",
      "{'1.0': 0, '2.0': 1, '3.0': 2, '4.0': 3, '5.0': 4}\n",
      "Words found in wiki vocab: 702\n",
      "New words found: 19675\n"
     ]
    }
   ],
   "source": [
    "\n",
    "from mtl.preprocess import clean_text, create_embedding_matrix, data_processing\n",
    "\n",
    "X_train, X_test, X_train_pad, X_test_pad, y_train, y_test, y_train1, y_test1, y_train2, y_test2, y_train3, y_test3, y_train4, y_test4, y_train5, y_test5, y_train6, y_test6, embedd_matrix, vocab_size, X_val, X_val_pad, y_val, y_val1, y_val2, y_val3, y_val4, y_val5, y_val6, data_test = data_processing()\n",
    "\n",
    "y_mtl_train = (y_train, y_train1, y_train2, y_train3, y_train4, y_train5, y_train6 )\n",
    "y_mtl_val = (y_val, y_val1, y_val2, y_val3, y_val4, y_val5, y_val6)\n",
    "\n",
    "y_emo_train = (y_train1, y_train2, y_train3, y_train4, y_train5, y_train6 )\n",
    "y_emo_val = (y_val1, y_val2, y_val3, y_val4, y_val5, y_val6)\n"
   ]
  },
  {
   "cell_type": "markdown",
   "metadata": {},
   "source": [
    "#Expiriments"
   ]
  },
  {
   "cell_type": "markdown",
   "metadata": {},
   "source": [
    "##Expiriment 1: Baseline LSTM 5 Sentiments"
   ]
  },
  {
   "cell_type": "markdown",
   "metadata": {},
   "source": [
    "###Training"
   ]
  },
  {
   "cell_type": "code",
   "execution_count": 13,
   "metadata": {},
   "outputs": [
    {
     "name": "stdout",
     "output_type": "stream",
     "text": [
      "models/lstm_one_task_sentiment_five.h5\n",
      "20378\n",
      "Training a lstm_one_task_sentiment_five model!\n",
      "Model: \"model_5\"\n",
      "_________________________________________________________________\n",
      " Layer (type)                Output Shape              Param #   \n",
      "=================================================================\n",
      " input_6 (InputLayer)        [(None, 500)]             0         \n",
      "                                                                 \n",
      " embedding_5 (Embedding)     (None, 500, 300)          6113400   \n",
      "                                                                 \n",
      " bidirectional_5 (Bidirectio  (None, 256)              439296    \n",
      " nal)                                                            \n",
      "                                                                 \n",
      " s (Dense)                   (None, 5)                 1285      \n",
      "                                                                 \n",
      "=================================================================\n",
      "Total params: 6,553,981\n",
      "Trainable params: 440,581\n",
      "Non-trainable params: 6,113,400\n",
      "_________________________________________________________________\n",
      "Epoch 1/40\n",
      "495/495 [==============================] - 178s 355ms/step - loss: 1.4079 - accuracy: 0.4283 - val_loss: 1.3501 - val_accuracy: 0.4562\n",
      "Epoch 2/40\n",
      "495/495 [==============================] - 201s 406ms/step - loss: 1.3678 - accuracy: 0.4313 - val_loss: 1.3208 - val_accuracy: 0.4639\n",
      "Epoch 3/40\n",
      "495/495 [==============================] - 216s 436ms/step - loss: 1.3424 - accuracy: 0.4368 - val_loss: 1.3294 - val_accuracy: 0.4540\n",
      "Epoch 4/40\n",
      "495/495 [==============================] - 215s 435ms/step - loss: 1.3391 - accuracy: 0.4362 - val_loss: 1.2792 - val_accuracy: 0.4737\n",
      "Epoch 5/40\n",
      "495/495 [==============================] - 213s 430ms/step - loss: 1.3200 - accuracy: 0.4392 - val_loss: 1.2824 - val_accuracy: 0.4765\n",
      "Epoch 6/40\n",
      "495/495 [==============================] - 208s 421ms/step - loss: 1.3130 - accuracy: 0.4441 - val_loss: 1.2733 - val_accuracy: 0.4792\n",
      "Epoch 7/40\n",
      "495/495 [==============================] - 208s 420ms/step - loss: 1.3018 - accuracy: 0.4455 - val_loss: 1.2576 - val_accuracy: 0.4825\n",
      "Epoch 8/40\n",
      "495/495 [==============================] - 208s 420ms/step - loss: 1.2970 - accuracy: 0.4479 - val_loss: 1.2699 - val_accuracy: 0.4694\n",
      "Epoch 9/40\n",
      "495/495 [==============================] - 208s 420ms/step - loss: 1.2924 - accuracy: 0.4493 - val_loss: 1.2566 - val_accuracy: 0.4694\n",
      "Epoch 10/40\n",
      "495/495 [==============================] - 208s 421ms/step - loss: 1.2867 - accuracy: 0.4503 - val_loss: 1.2506 - val_accuracy: 0.4792\n",
      "Epoch 11/40\n",
      "495/495 [==============================] - 208s 421ms/step - loss: 1.2812 - accuracy: 0.4546 - val_loss: 1.2675 - val_accuracy: 0.4633\n",
      "Epoch 12/40\n",
      "495/495 [==============================] - 208s 420ms/step - loss: 1.2751 - accuracy: 0.4568 - val_loss: 1.2572 - val_accuracy: 0.4787\n",
      "Epoch 13/40\n",
      "495/495 [==============================] - 208s 420ms/step - loss: 1.2684 - accuracy: 0.4552 - val_loss: 1.2557 - val_accuracy: 0.4798\n",
      "Epoch 14/40\n",
      "495/495 [==============================] - 208s 420ms/step - loss: 1.2637 - accuracy: 0.4618 - val_loss: 1.2708 - val_accuracy: 0.4655\n",
      "Epoch 15/40\n",
      "495/495 [==============================] - 208s 421ms/step - loss: 1.2583 - accuracy: 0.4626 - val_loss: 1.2572 - val_accuracy: 0.4781\n",
      "Epoch 16/40\n",
      "495/495 [==============================] - 208s 420ms/step - loss: 1.2493 - accuracy: 0.4649 - val_loss: 1.2575 - val_accuracy: 0.4721\n",
      "Epoch 17/40\n",
      "495/495 [==============================] - 208s 421ms/step - loss: 1.2452 - accuracy: 0.4685 - val_loss: 1.2679 - val_accuracy: 0.4655\n",
      "Epoch 18/40\n",
      "495/495 [==============================] - 208s 421ms/step - loss: 1.2398 - accuracy: 0.4663 - val_loss: 1.2553 - val_accuracy: 0.4792\n",
      "Epoch 19/40\n",
      "495/495 [==============================] - 208s 421ms/step - loss: 1.2283 - accuracy: 0.4759 - val_loss: 1.2617 - val_accuracy: 0.4705\n",
      "Epoch 20/40\n",
      "495/495 [==============================] - 208s 421ms/step - loss: 1.2193 - accuracy: 0.4805 - val_loss: 1.2771 - val_accuracy: 0.4666\n",
      "Epoch 21/40\n",
      "495/495 [==============================] - 208s 420ms/step - loss: 1.2116 - accuracy: 0.4837 - val_loss: 1.2864 - val_accuracy: 0.4606\n",
      "Epoch 22/40\n",
      "495/495 [==============================] - 208s 420ms/step - loss: 1.2041 - accuracy: 0.4889 - val_loss: 1.2786 - val_accuracy: 0.4617\n",
      "Epoch 23/40\n",
      "495/495 [==============================] - 208s 420ms/step - loss: 1.1936 - accuracy: 0.4889 - val_loss: 1.2986 - val_accuracy: 0.4590\n",
      "Epoch 24/40\n",
      "495/495 [==============================] - 208s 420ms/step - loss: 1.1823 - accuracy: 0.4968 - val_loss: 1.2976 - val_accuracy: 0.4623\n",
      "Epoch 25/40\n",
      "495/495 [==============================] - 208s 420ms/step - loss: 1.1695 - accuracy: 0.5040 - val_loss: 1.3119 - val_accuracy: 0.4426\n",
      "Epoch 26/40\n",
      "495/495 [==============================] - 208s 421ms/step - loss: 1.1601 - accuracy: 0.5050 - val_loss: 1.3160 - val_accuracy: 0.4579\n",
      "Epoch 27/40\n",
      "495/495 [==============================] - 208s 421ms/step - loss: 1.1515 - accuracy: 0.5099 - val_loss: 1.3065 - val_accuracy: 0.4508\n",
      "Epoch 28/40\n",
      "495/495 [==============================] - 208s 420ms/step - loss: 1.1350 - accuracy: 0.5167 - val_loss: 1.3395 - val_accuracy: 0.4497\n",
      "Epoch 29/40\n",
      "495/495 [==============================] - 208s 420ms/step - loss: 1.1287 - accuracy: 0.5177 - val_loss: 1.3374 - val_accuracy: 0.4437\n",
      "Epoch 30/40\n",
      "495/495 [==============================] - 208s 420ms/step - loss: 1.1142 - accuracy: 0.5271 - val_loss: 1.3698 - val_accuracy: 0.4431\n",
      "Epoch 31/40\n",
      "495/495 [==============================] - 208s 421ms/step - loss: 1.1057 - accuracy: 0.5311 - val_loss: 1.3605 - val_accuracy: 0.4469\n",
      "Epoch 32/40\n",
      "495/495 [==============================] - 208s 420ms/step - loss: 1.0936 - accuracy: 0.5366 - val_loss: 1.3605 - val_accuracy: 0.4409\n",
      "Epoch 33/40\n",
      "495/495 [==============================] - 208s 420ms/step - loss: 1.0838 - accuracy: 0.5433 - val_loss: 1.3803 - val_accuracy: 0.4376\n",
      "Epoch 34/40\n",
      "495/495 [==============================] - 209s 422ms/step - loss: 1.0731 - accuracy: 0.5479 - val_loss: 1.3753 - val_accuracy: 0.4486\n",
      "Epoch 35/40\n",
      "495/495 [==============================] - 208s 420ms/step - loss: 1.0609 - accuracy: 0.5521 - val_loss: 1.3925 - val_accuracy: 0.4426\n",
      "Epoch 36/40\n",
      "495/495 [==============================] - 208s 420ms/step - loss: 1.0474 - accuracy: 0.5592 - val_loss: 1.4059 - val_accuracy: 0.4431\n",
      "Epoch 37/40\n",
      "495/495 [==============================] - 208s 420ms/step - loss: 1.0407 - accuracy: 0.5654 - val_loss: 1.4267 - val_accuracy: 0.4387\n",
      "Epoch 38/40\n",
      "495/495 [==============================] - 208s 421ms/step - loss: 1.0297 - accuracy: 0.5698 - val_loss: 1.4260 - val_accuracy: 0.4437\n",
      "Epoch 39/40\n",
      "495/495 [==============================] - 208s 420ms/step - loss: 1.0202 - accuracy: 0.5743 - val_loss: 1.4332 - val_accuracy: 0.4294\n",
      "Epoch 40/40\n",
      "495/495 [==============================] - 208s 420ms/step - loss: 1.0122 - accuracy: 0.5739 - val_loss: 1.4541 - val_accuracy: 0.4333\n"
     ]
    }
   ],
   "source": [
    "#train\n",
    "\n",
    "from mtl.network import net\n",
    "from mtl.train import train_model\n",
    "from tensorboard.plugins.hparams import api as hp\n",
    "\n",
    "model_name = 'lstm_one_task_sentiment_five'\n",
    "saved_model_name = 'models/'+ model_name + '.h5'\n",
    "print('models/'+ model_name + '.h5')\n",
    "batch_size=32\n",
    "epochs=40\n",
    "gru_output_size=128\n",
    "dropout=0.2\n",
    "recurrent_dropout=0.2\n",
    "tensorboard = True\n",
    "loss_weights = [1, 0, 0, 0, 0, 0, 0]\n",
    "print(vocab_size)\n",
    "\n",
    "\n",
    "train_model(vocab_size = vocab_size, embedd_matrix = embedd_matrix, data_x = X_train_pad, data_y = y_train, val_x = X_val_pad, val_y = y_val, model_name=model_name, saved_model_name=saved_model_name, batch_size=32, epochs=epochs, tensorboard=tensorboard, loss_weights=loss_weights)"
   ]
  },
  {
   "cell_type": "markdown",
   "metadata": {},
   "source": [
    "###Predict"
   ]
  },
  {
   "cell_type": "code",
   "execution_count": 14,
   "metadata": {},
   "outputs": [
    {
     "name": "stdout",
     "output_type": "stream",
     "text": [
      "Accuracy: 40.21%\n",
      "\n",
      "F1 Score: 40.21\n"
     ]
    }
   ],
   "source": [
    "#predict\n",
    "from mtl.predict import test_model\n",
    "\n",
    "file_name = 'models/lstm_one_task_sentiment_five.h5'\n",
    "num_classes = 5\n",
    "num_classes1 = 2\n",
    "embed_num_dims = 300\n",
    "max_seq_len = 500\n",
    "\n",
    "#change those according to the model you are testing\n",
    "num_of_sentiments = True\n",
    "\n",
    "test_model(file_name, mtl = False, data_y= data_test, data_x=X_test_pad)"
   ]
  },
  {
   "cell_type": "markdown",
   "metadata": {},
   "source": [
    "###Tensorboard"
   ]
  },
  {
   "cell_type": "markdown",
   "metadata": {},
   "source": [
    "If running locally please use the following to access tensorboard:"
   ]
  },
  {
   "cell_type": "code",
   "execution_count": null,
   "metadata": {},
   "outputs": [],
   "source": [
    "!tensorboard --logdir=logs/fit --host localhost --port 6006\n",
    "\n",
    "#then open browser and go to: http://localhost:6006"
   ]
  },
  {
   "cell_type": "markdown",
   "metadata": {},
   "source": [
    "If running on colab please use the following to access tensorboard and follow the prompts:"
   ]
  },
  {
   "cell_type": "code",
   "execution_count": null,
   "metadata": {},
   "outputs": [],
   "source": [
    "!tensorboard dev upload --logdir ./logs \\\n",
    "  --name \"Experiments\" \\yes\n",
    "  --description \"Training results\" \\\n",
    "  --one_shot"
   ]
  },
  {
   "cell_type": "markdown",
   "metadata": {},
   "source": [
    "##Expiriment Two: Baseline GRU 5 Sentiments"
   ]
  },
  {
   "cell_type": "markdown",
   "metadata": {},
   "source": [
    "###Train"
   ]
  },
  {
   "cell_type": "code",
   "execution_count": 3,
   "metadata": {},
   "outputs": [
    {
     "name": "stdout",
     "output_type": "stream",
     "text": [
      "models/gru_one_task_sentiment_five.h5\n",
      "20378\n",
      "Training a gru_one_task_sentiment_five model!\n",
      "WARNING:tensorflow:Layer gru will not use cuDNN kernels since it doesn't meet the criteria. It will use a generic GPU kernel as fallback when running on GPU.\n",
      "WARNING:tensorflow:Layer gru will not use cuDNN kernels since it doesn't meet the criteria. It will use a generic GPU kernel as fallback when running on GPU.\n",
      "WARNING:tensorflow:Layer gru will not use cuDNN kernels since it doesn't meet the criteria. It will use a generic GPU kernel as fallback when running on GPU.\n",
      "Model: \"model\"\n",
      "_________________________________________________________________\n",
      " Layer (type)                Output Shape              Param #   \n",
      "=================================================================\n",
      " input_1 (InputLayer)        [(None, 500)]             0         \n",
      "                                                                 \n",
      " embedding (Embedding)       (None, 500, 300)          6113400   \n",
      "                                                                 \n",
      " bidirectional (Bidirectiona  (None, 256)              330240    \n",
      " l)                                                              \n",
      "                                                                 \n",
      " s (Dense)                   (None, 5)                 1285      \n",
      "                                                                 \n",
      "=================================================================\n",
      "Total params: 6,444,925\n",
      "Trainable params: 331,525\n",
      "Non-trainable params: 6,113,400\n",
      "_________________________________________________________________\n",
      "Epoch 1/20\n",
      "495/495 [==============================] - 532s 1s/step - loss: 1.4111 - accuracy: 0.4280 - val_loss: 1.3323 - val_accuracy: 0.4612\n",
      "Epoch 2/20\n",
      "495/495 [==============================] - 531s 1s/step - loss: 1.3677 - accuracy: 0.4334 - val_loss: 1.3289 - val_accuracy: 0.4584\n",
      "Epoch 3/20\n",
      "495/495 [==============================] - 532s 1s/step - loss: 1.3378 - accuracy: 0.4361 - val_loss: 1.2908 - val_accuracy: 0.4628\n",
      "Epoch 4/20\n",
      "495/495 [==============================] - 531s 1s/step - loss: 1.3167 - accuracy: 0.4436 - val_loss: 1.2712 - val_accuracy: 0.4754\n",
      "Epoch 5/20\n",
      "495/495 [==============================] - 532s 1s/step - loss: 1.3057 - accuracy: 0.4436 - val_loss: 1.2637 - val_accuracy: 0.4748\n",
      "Epoch 6/20\n",
      "495/495 [==============================] - 531s 1s/step - loss: 1.2981 - accuracy: 0.4450 - val_loss: 1.2498 - val_accuracy: 0.4809\n",
      "Epoch 7/20\n",
      "495/495 [==============================] - 531s 1s/step - loss: 1.2902 - accuracy: 0.4506 - val_loss: 1.2523 - val_accuracy: 0.4721\n",
      "Epoch 8/20\n",
      "495/495 [==============================] - 532s 1s/step - loss: 1.2808 - accuracy: 0.4523 - val_loss: 1.2672 - val_accuracy: 0.4726\n",
      "Epoch 9/20\n",
      "495/495 [==============================] - 532s 1s/step - loss: 1.2752 - accuracy: 0.4594 - val_loss: 1.2510 - val_accuracy: 0.4732\n",
      "Epoch 10/20\n",
      "495/495 [==============================] - 532s 1s/step - loss: 1.2651 - accuracy: 0.4614 - val_loss: 1.2542 - val_accuracy: 0.4759\n",
      "Epoch 11/20\n",
      "495/495 [==============================] - 532s 1s/step - loss: 1.2590 - accuracy: 0.4611 - val_loss: 1.2558 - val_accuracy: 0.4705\n",
      "Epoch 12/20\n",
      "495/495 [==============================] - 533s 1s/step - loss: 1.2519 - accuracy: 0.4640 - val_loss: 1.2541 - val_accuracy: 0.4787\n",
      "Epoch 13/20\n",
      "495/495 [==============================] - 532s 1s/step - loss: 1.2439 - accuracy: 0.4671 - val_loss: 1.2552 - val_accuracy: 0.4726\n",
      "Epoch 14/20\n",
      "495/495 [==============================] - 533s 1s/step - loss: 1.2367 - accuracy: 0.4730 - val_loss: 1.2605 - val_accuracy: 0.4710\n",
      "Epoch 15/20\n",
      "495/495 [==============================] - 532s 1s/step - loss: 1.2286 - accuracy: 0.4747 - val_loss: 1.2641 - val_accuracy: 0.4754\n",
      "Epoch 16/20\n",
      "495/495 [==============================] - 533s 1s/step - loss: 1.2170 - accuracy: 0.4823 - val_loss: 1.2764 - val_accuracy: 0.4737\n",
      "Epoch 17/20\n",
      "495/495 [==============================] - 534s 1s/step - loss: 1.2085 - accuracy: 0.4862 - val_loss: 1.2804 - val_accuracy: 0.4694\n",
      "Epoch 18/20\n",
      "495/495 [==============================] - 532s 1s/step - loss: 1.1962 - accuracy: 0.4874 - val_loss: 1.3016 - val_accuracy: 0.4354\n",
      "Epoch 19/20\n",
      "495/495 [==============================] - 533s 1s/step - loss: 1.1853 - accuracy: 0.4962 - val_loss: 1.2978 - val_accuracy: 0.4573\n",
      "Epoch 20/20\n",
      "495/495 [==============================] - 533s 1s/step - loss: 1.1749 - accuracy: 0.4993 - val_loss: 1.2971 - val_accuracy: 0.4628\n"
     ]
    }
   ],
   "source": [
    "from mtl.network import net\n",
    "from mtl.train import train_model\n",
    "from tensorboard.plugins.hparams import api as hp\n",
    "\n",
    "model_name = 'gru_one_task_sentiment_five'\n",
    "saved_model_name = 'models/'+ model_name + '.h5'\n",
    "print('models/'+ model_name + '.h5')\n",
    "batch_size=32\n",
    "epochs=20\n",
    "gru_output_size=128\n",
    "dropout=0.2\n",
    "recurrent_dropout=0.2\n",
    "tensorboard = True\n",
    "loss_weights = [1, 0.0, 0.0, 0.0, 0.0, 0.0, 0.0]\n",
    "print(vocab_size)\n",
    "\n",
    "\n",
    "train_model(vocab_size = vocab_size, embedd_matrix = embedd_matrix, data_x = X_train_pad, data_y = y_train, val_x = X_val_pad, val_y = y_val, model_name=model_name, saved_model_name=saved_model_name, batch_size=32, epochs=epochs, tensorboard=tensorboard, loss_weights=loss_weights)"
   ]
  },
  {
   "cell_type": "markdown",
   "metadata": {},
   "source": [
    "###Predict"
   ]
  },
  {
   "cell_type": "code",
   "execution_count": null,
   "metadata": {},
   "outputs": [
    {
     "name": "stdout",
     "output_type": "stream",
     "text": [
      "Accuracy: 44.21%\n",
      "\n",
      "F1 Score: 44.21\n"
     ]
    }
   ],
   "source": [
    "#predict\n",
    "from mtl.predict import test_model\n",
    "\n",
    "file_name = 'models/gru_one_task_sentiment_five.h5'\n",
    "num_classes = 5\n",
    "num_classes1 = 2\n",
    "embed_num_dims = 300\n",
    "max_seq_len = 500\n",
    "\n",
    "#change those according to the model you are testing\n",
    "num_of_sentiments = True\n",
    "\n",
    "test_model(file_name, mtl = False, data_y= data_test, data_x=X_test_pad)"
   ]
  },
  {
   "cell_type": "markdown",
   "metadata": {},
   "source": [
    "###Tensorboard"
   ]
  },
  {
   "cell_type": "markdown",
   "metadata": {},
   "source": [
    "If running locally please use the following to access tensorboard:"
   ]
  },
  {
   "cell_type": "code",
   "execution_count": 17,
   "metadata": {},
   "outputs": [
    {
     "name": "stdout",
     "output_type": "stream",
     "text": [
      "2022-04-04 16:56:32.407902: E tensorflow/stream_executor/cuda/cuda_driver.cc:271] failed call to cuInit: CUDA_ERROR_NO_DEVICE: no CUDA-capable device is detected\n",
      "TensorBoard 2.7.0 at http://localhost:6006/ (Press CTRL+C to quit)\n",
      "^C\n"
     ]
    }
   ],
   "source": [
    "!tensorboard --logdir=logs/fit --host localhost --port 6006\n",
    "\n",
    "#then open browser and go to: http://localhost:6006"
   ]
  },
  {
   "cell_type": "markdown",
   "metadata": {},
   "source": [
    "If running on colab please use the following to access tensorboard and then follow the prompts:"
   ]
  },
  {
   "cell_type": "code",
   "execution_count": null,
   "metadata": {},
   "outputs": [],
   "source": [
    "!tensorboard dev upload --logdir ./logs \\\n",
    "  --name \"Experiments\" \\yes\n",
    "  --description \"Training results\" \\\n",
    "  --one_shot"
   ]
  },
  {
   "cell_type": "markdown",
   "metadata": {},
   "source": [
    "##Expiriment Three: MLT 5 Sentiments"
   ]
  },
  {
   "cell_type": "markdown",
   "metadata": {},
   "source": [
    "###Train"
   ]
  },
  {
   "cell_type": "code",
   "execution_count": 15,
   "metadata": {},
   "outputs": [
    {
     "name": "stdout",
     "output_type": "stream",
     "text": [
      "models/mtl_five_sentiments.h5\n",
      "20378\n",
      "Training a mtl_five_sentiments model!\n",
      "Model: \"model_6\"\n",
      "__________________________________________________________________________________________________\n",
      " Layer (type)                   Output Shape         Param #     Connected to                     \n",
      "==================================================================================================\n",
      " input_7 (InputLayer)           [(None, 500)]        0           []                               \n",
      "                                                                                                  \n",
      " embedding_6 (Embedding)        (None, 500, 300)     6113400     ['input_7[0][0]']                \n",
      "                                                                                                  \n",
      " bidirectional_6 (Bidirectional  (None, 256)         330240      ['embedding_6[0][0]']            \n",
      " )                                                                                                \n",
      "                                                                                                  \n",
      " s (Dense)                      (None, 5)            1285        ['bidirectional_6[0][0]']        \n",
      "                                                                                                  \n",
      " e1 (Dense)                     (None, 2)            514         ['bidirectional_6[0][0]']        \n",
      "                                                                                                  \n",
      " e2 (Dense)                     (None, 2)            514         ['bidirectional_6[0][0]']        \n",
      "                                                                                                  \n",
      " e3 (Dense)                     (None, 2)            514         ['bidirectional_6[0][0]']        \n",
      "                                                                                                  \n",
      " e4 (Dense)                     (None, 2)            514         ['bidirectional_6[0][0]']        \n",
      "                                                                                                  \n",
      " e5 (Dense)                     (None, 2)            514         ['bidirectional_6[0][0]']        \n",
      "                                                                                                  \n",
      " e6 (Dense)                     (None, 2)            514         ['bidirectional_6[0][0]']        \n",
      "                                                                                                  \n",
      "==================================================================================================\n",
      "Total params: 6,448,009\n",
      "Trainable params: 334,609\n",
      "Non-trainable params: 6,113,400\n",
      "__________________________________________________________________________________________________\n",
      "Epoch 1/40\n",
      "495/495 [==============================] - 176s 350ms/step - loss: 1.1346 - s_loss: 1.4151 - e1_loss: 0.6911 - e2_loss: 0.5781 - e3_loss: 0.5159 - e4_loss: 0.3368 - e5_loss: 0.4584 - e6_loss: 0.3003 - s_accuracy: 0.4291 - e1_accuracy: 0.5344 - e2_accuracy: 0.7296 - e3_accuracy: 0.7882 - e4_accuracy: 0.8954 - e5_accuracy: 0.8294 - e6_accuracy: 0.9163 - val_loss: 1.5581 - val_s_loss: 1.3419 - val_e1_loss: 0.5706 - val_e2_loss: 1.5639 - val_e3_loss: 1.9677 - val_e4_loss: 2.8800 - val_e5_loss: 2.3429 - val_e6_loss: 3.0518 - val_s_accuracy: 0.4568 - val_e1_accuracy: 0.9874 - val_e2_accuracy: 0.0000e+00 - val_e3_accuracy: 0.0000e+00 - val_e4_accuracy: 0.0000e+00 - val_e5_accuracy: 0.0000e+00 - val_e6_accuracy: 0.0000e+00\n",
      "Epoch 2/40\n",
      "495/495 [==============================] - 190s 383ms/step - loss: 1.0965 - s_loss: 1.3664 - e1_loss: 0.6857 - e2_loss: 0.5674 - e3_loss: 0.5053 - e4_loss: 0.3217 - e5_loss: 0.4341 - e6_loss: 0.2873 - s_accuracy: 0.4316 - e1_accuracy: 0.5544 - e2_accuracy: 0.7413 - e3_accuracy: 0.7942 - e4_accuracy: 0.9009 - e5_accuracy: 0.8309 - e6_accuracy: 0.9176 - val_loss: 1.4063 - val_s_loss: 1.3079 - val_e1_loss: 0.6764 - val_e2_loss: 1.2671 - val_e3_loss: 1.5706 - val_e4_loss: 2.2825 - val_e5_loss: 1.7746 - val_e6_loss: 2.2449 - val_s_accuracy: 0.4633 - val_e1_accuracy: 0.6559 - val_e2_accuracy: 0.0071 - val_e3_accuracy: 0.0000e+00 - val_e4_accuracy: 5.4705e-04 - val_e5_accuracy: 0.0449 - val_e6_accuracy: 0.0000e+00\n",
      "Epoch 3/40\n",
      "495/495 [==============================] - 190s 383ms/step - loss: 1.0733 - s_loss: 1.3354 - e1_loss: 0.6754 - e2_loss: 0.5623 - e3_loss: 0.5028 - e4_loss: 0.3215 - e5_loss: 0.4214 - e6_loss: 0.2863 - s_accuracy: 0.4398 - e1_accuracy: 0.5830 - e2_accuracy: 0.7429 - e3_accuracy: 0.7943 - e4_accuracy: 0.9010 - e5_accuracy: 0.8319 - e6_accuracy: 0.9176 - val_loss: 1.4236 - val_s_loss: 1.2906 - val_e1_loss: 0.7072 - val_e2_loss: 1.3140 - val_e3_loss: 1.5252 - val_e4_loss: 2.3555 - val_e5_loss: 1.8637 - val_e6_loss: 2.6385 - val_s_accuracy: 0.4683 - val_e1_accuracy: 0.5804 - val_e2_accuracy: 0.0115 - val_e3_accuracy: 0.0000e+00 - val_e4_accuracy: 0.0000e+00 - val_e5_accuracy: 0.0334 - val_e6_accuracy: 0.0000e+00\n",
      "Epoch 4/40\n",
      "495/495 [==============================] - 189s 383ms/step - loss: 1.0609 - s_loss: 1.3186 - e1_loss: 0.6703 - e2_loss: 0.5606 - e3_loss: 0.5021 - e4_loss: 0.3208 - e5_loss: 0.4194 - e6_loss: 0.2848 - s_accuracy: 0.4380 - e1_accuracy: 0.5888 - e2_accuracy: 0.7426 - e3_accuracy: 0.7942 - e4_accuracy: 0.9010 - e5_accuracy: 0.8320 - e6_accuracy: 0.9176 - val_loss: 1.4229 - val_s_loss: 1.2771 - val_e1_loss: 0.6207 - val_e2_loss: 1.4002 - val_e3_loss: 1.5857 - val_e4_loss: 2.4340 - val_e5_loss: 1.9759 - val_e6_loss: 2.5628 - val_s_accuracy: 0.4694 - val_e1_accuracy: 0.7270 - val_e2_accuracy: 0.0213 - val_e3_accuracy: 0.0000e+00 - val_e4_accuracy: 0.0000e+00 - val_e5_accuracy: 0.0416 - val_e6_accuracy: 0.0000e+00\n",
      "Epoch 5/40\n",
      "495/495 [==============================] - 190s 383ms/step - loss: 1.0523 - s_loss: 1.3072 - e1_loss: 0.6672 - e2_loss: 0.5593 - e3_loss: 0.5009 - e4_loss: 0.3189 - e5_loss: 0.4162 - e6_loss: 0.2817 - s_accuracy: 0.4407 - e1_accuracy: 0.5909 - e2_accuracy: 0.7427 - e3_accuracy: 0.7940 - e4_accuracy: 0.9010 - e5_accuracy: 0.8331 - e6_accuracy: 0.9175 - val_loss: 1.4100 - val_s_loss: 1.2584 - val_e1_loss: 0.6750 - val_e2_loss: 1.3096 - val_e3_loss: 1.5220 - val_e4_loss: 2.4253 - val_e5_loss: 1.9872 - val_e6_loss: 2.6624 - val_s_accuracy: 0.4743 - val_e1_accuracy: 0.6357 - val_e2_accuracy: 0.0126 - val_e3_accuracy: 0.0000e+00 - val_e4_accuracy: 5.4705e-04 - val_e5_accuracy: 0.0077 - val_e6_accuracy: 0.0000e+00\n",
      "Epoch 6/40\n",
      "495/495 [==============================] - 190s 383ms/step - loss: 1.0448 - s_loss: 1.2972 - e1_loss: 0.6648 - e2_loss: 0.5579 - e3_loss: 0.5005 - e4_loss: 0.3180 - e5_loss: 0.4139 - e6_loss: 0.2806 - s_accuracy: 0.4485 - e1_accuracy: 0.5971 - e2_accuracy: 0.7435 - e3_accuracy: 0.7942 - e4_accuracy: 0.9010 - e5_accuracy: 0.8343 - e6_accuracy: 0.9175 - val_loss: 1.4716 - val_s_loss: 1.2769 - val_e1_loss: 0.5652 - val_e2_loss: 1.4644 - val_e3_loss: 1.8212 - val_e4_loss: 2.6013 - val_e5_loss: 2.5150 - val_e6_loss: 2.5884 - val_s_accuracy: 0.4672 - val_e1_accuracy: 0.8228 - val_e2_accuracy: 0.0060 - val_e3_accuracy: 0.0000e+00 - val_e4_accuracy: 5.4705e-04 - val_e5_accuracy: 0.0055 - val_e6_accuracy: 0.0000e+00\n",
      "Epoch 7/40\n",
      "495/495 [==============================] - 189s 383ms/step - loss: 1.0392 - s_loss: 1.2899 - e1_loss: 0.6634 - e2_loss: 0.5572 - e3_loss: 0.4983 - e4_loss: 0.3153 - e5_loss: 0.4120 - e6_loss: 0.2780 - s_accuracy: 0.4496 - e1_accuracy: 0.6035 - e2_accuracy: 0.7423 - e3_accuracy: 0.7937 - e4_accuracy: 0.9011 - e5_accuracy: 0.8321 - e6_accuracy: 0.9175 - val_loss: 1.4250 - val_s_loss: 1.2510 - val_e1_loss: 0.6321 - val_e2_loss: 1.5072 - val_e3_loss: 1.6381 - val_e4_loss: 2.4290 - val_e5_loss: 2.1397 - val_e6_loss: 2.6399 - val_s_accuracy: 0.4809 - val_e1_accuracy: 0.6975 - val_e2_accuracy: 0.0077 - val_e3_accuracy: 5.4705e-04 - val_e4_accuracy: 0.0000e+00 - val_e5_accuracy: 0.0098 - val_e6_accuracy: 0.0000e+00\n",
      "Epoch 8/40\n",
      "495/495 [==============================] - 190s 383ms/step - loss: 1.0334 - s_loss: 1.2826 - e1_loss: 0.6610 - e2_loss: 0.5551 - e3_loss: 0.4972 - e4_loss: 0.3144 - e5_loss: 0.4094 - e6_loss: 0.2758 - s_accuracy: 0.4570 - e1_accuracy: 0.5972 - e2_accuracy: 0.7439 - e3_accuracy: 0.7939 - e4_accuracy: 0.9009 - e5_accuracy: 0.8348 - e6_accuracy: 0.9176 - val_loss: 1.4392 - val_s_loss: 1.2474 - val_e1_loss: 0.6821 - val_e2_loss: 1.5623 - val_e3_loss: 1.7136 - val_e4_loss: 2.5949 - val_e5_loss: 2.1463 - val_e6_loss: 2.6220 - val_s_accuracy: 0.4847 - val_e1_accuracy: 0.6132 - val_e2_accuracy: 0.0027 - val_e3_accuracy: 0.0011 - val_e4_accuracy: 0.0000e+00 - val_e5_accuracy: 0.0164 - val_e6_accuracy: 0.0000e+00\n",
      "Epoch 9/40\n",
      "495/495 [==============================] - 190s 383ms/step - loss: 1.0280 - s_loss: 1.2754 - e1_loss: 0.6582 - e2_loss: 0.5540 - e3_loss: 0.4965 - e4_loss: 0.3140 - e5_loss: 0.4085 - e6_loss: 0.2746 - s_accuracy: 0.4536 - e1_accuracy: 0.6048 - e2_accuracy: 0.7453 - e3_accuracy: 0.7940 - e4_accuracy: 0.9011 - e5_accuracy: 0.8347 - e6_accuracy: 0.9175 - val_loss: 1.4063 - val_s_loss: 1.2421 - val_e1_loss: 0.6099 - val_e2_loss: 1.5366 - val_e3_loss: 1.5841 - val_e4_loss: 2.2984 - val_e5_loss: 2.0932 - val_e6_loss: 2.6156 - val_s_accuracy: 0.4781 - val_e1_accuracy: 0.7155 - val_e2_accuracy: 0.0098 - val_e3_accuracy: 0.0011 - val_e4_accuracy: 0.0000e+00 - val_e5_accuracy: 0.0181 - val_e6_accuracy: 0.0000e+00\n",
      "Epoch 10/40\n",
      "495/495 [==============================] - 190s 383ms/step - loss: 1.0248 - s_loss: 1.2709 - e1_loss: 0.6577 - e2_loss: 0.5545 - e3_loss: 0.4961 - e4_loss: 0.3127 - e5_loss: 0.4075 - e6_loss: 0.2746 - s_accuracy: 0.4558 - e1_accuracy: 0.6061 - e2_accuracy: 0.7454 - e3_accuracy: 0.7942 - e4_accuracy: 0.9010 - e5_accuracy: 0.8353 - e6_accuracy: 0.9176 - val_loss: 1.4554 - val_s_loss: 1.2443 - val_e1_loss: 0.6479 - val_e2_loss: 1.5481 - val_e3_loss: 1.6984 - val_e4_loss: 2.7346 - val_e5_loss: 2.1783 - val_e6_loss: 2.8794 - val_s_accuracy: 0.4770 - val_e1_accuracy: 0.6783 - val_e2_accuracy: 0.0148 - val_e3_accuracy: 0.0000e+00 - val_e4_accuracy: 0.0000e+00 - val_e5_accuracy: 0.0164 - val_e6_accuracy: 0.0000e+00\n",
      "Epoch 11/40\n",
      "495/495 [==============================] - 190s 383ms/step - loss: 1.0169 - s_loss: 1.2605 - e1_loss: 0.6545 - e2_loss: 0.5523 - e3_loss: 0.4949 - e4_loss: 0.3120 - e5_loss: 0.4039 - e6_loss: 0.2735 - s_accuracy: 0.4595 - e1_accuracy: 0.6095 - e2_accuracy: 0.7452 - e3_accuracy: 0.7937 - e4_accuracy: 0.9010 - e5_accuracy: 0.8360 - e6_accuracy: 0.9176 - val_loss: 1.4019 - val_s_loss: 1.2431 - val_e1_loss: 0.6439 - val_e2_loss: 1.4447 - val_e3_loss: 1.5857 - val_e4_loss: 2.2957 - val_e5_loss: 2.0183 - val_e6_loss: 2.6471 - val_s_accuracy: 0.4759 - val_e1_accuracy: 0.7035 - val_e2_accuracy: 0.0148 - val_e3_accuracy: 0.0000e+00 - val_e4_accuracy: 0.0000e+00 - val_e5_accuracy: 0.0148 - val_e6_accuracy: 0.0000e+00\n",
      "Epoch 12/40\n",
      "495/495 [==============================] - 189s 383ms/step - loss: 1.0126 - s_loss: 1.2544 - e1_loss: 0.6531 - e2_loss: 0.5522 - e3_loss: 0.4950 - e4_loss: 0.3135 - e5_loss: 0.4034 - e6_loss: 0.2743 - s_accuracy: 0.4604 - e1_accuracy: 0.6110 - e2_accuracy: 0.7427 - e3_accuracy: 0.7932 - e4_accuracy: 0.9010 - e5_accuracy: 0.8364 - e6_accuracy: 0.9176 - val_loss: 1.4087 - val_s_loss: 1.2518 - val_e1_loss: 0.7410 - val_e2_loss: 1.3729 - val_e3_loss: 1.6059 - val_e4_loss: 2.3609 - val_e5_loss: 1.9651 - val_e6_loss: 2.6027 - val_s_accuracy: 0.4677 - val_e1_accuracy: 0.5191 - val_e2_accuracy: 0.0339 - val_e3_accuracy: 0.0000e+00 - val_e4_accuracy: 0.0000e+00 - val_e5_accuracy: 0.0191 - val_e6_accuracy: 0.0000e+00\n",
      "Epoch 13/40\n",
      "495/495 [==============================] - 189s 383ms/step - loss: 1.0069 - s_loss: 1.2466 - e1_loss: 0.6521 - e2_loss: 0.5514 - e3_loss: 0.4943 - e4_loss: 0.3122 - e5_loss: 0.4016 - e6_loss: 0.2729 - s_accuracy: 0.4644 - e1_accuracy: 0.6095 - e2_accuracy: 0.7452 - e3_accuracy: 0.7944 - e4_accuracy: 0.9011 - e5_accuracy: 0.8369 - e6_accuracy: 0.9176 - val_loss: 1.4462 - val_s_loss: 1.2740 - val_e1_loss: 0.5790 - val_e2_loss: 1.4062 - val_e3_loss: 1.7031 - val_e4_loss: 2.4900 - val_e5_loss: 2.1952 - val_e6_loss: 2.7149 - val_s_accuracy: 0.4568 - val_e1_accuracy: 0.7604 - val_e2_accuracy: 0.0175 - val_e3_accuracy: 0.0000e+00 - val_e4_accuracy: 0.0000e+00 - val_e5_accuracy: 0.0295 - val_e6_accuracy: 0.0000e+00\n",
      "Epoch 14/40\n",
      "495/495 [==============================] - 190s 383ms/step - loss: 1.0005 - s_loss: 1.2377 - e1_loss: 0.6509 - e2_loss: 0.5519 - e3_loss: 0.4945 - e4_loss: 0.3125 - e5_loss: 0.3994 - e6_loss: 0.2730 - s_accuracy: 0.4688 - e1_accuracy: 0.6134 - e2_accuracy: 0.7455 - e3_accuracy: 0.7938 - e4_accuracy: 0.9009 - e5_accuracy: 0.8376 - e6_accuracy: 0.9176 - val_loss: 1.4116 - val_s_loss: 1.2560 - val_e1_loss: 0.6665 - val_e2_loss: 1.4544 - val_e3_loss: 1.5720 - val_e4_loss: 2.3394 - val_e5_loss: 1.9577 - val_e6_loss: 2.6573 - val_s_accuracy: 0.4737 - val_e1_accuracy: 0.6384 - val_e2_accuracy: 0.0120 - val_e3_accuracy: 0.0016 - val_e4_accuracy: 0.0000e+00 - val_e5_accuracy: 0.0454 - val_e6_accuracy: 0.0000e+00\n",
      "Epoch 15/40\n",
      "495/495 [==============================] - 190s 383ms/step - loss: 0.9943 - s_loss: 1.2295 - e1_loss: 0.6486 - e2_loss: 0.5485 - e3_loss: 0.4922 - e4_loss: 0.3123 - e5_loss: 0.3980 - e6_loss: 0.2725 - s_accuracy: 0.4773 - e1_accuracy: 0.6181 - e2_accuracy: 0.7463 - e3_accuracy: 0.7933 - e4_accuracy: 0.9011 - e5_accuracy: 0.8384 - e6_accuracy: 0.9176 - val_loss: 1.4412 - val_s_loss: 1.2616 - val_e1_loss: 0.7113 - val_e2_loss: 1.4874 - val_e3_loss: 1.5789 - val_e4_loss: 2.4926 - val_e5_loss: 2.0996 - val_e6_loss: 2.7927 - val_s_accuracy: 0.4710 - val_e1_accuracy: 0.5509 - val_e2_accuracy: 0.0230 - val_e3_accuracy: 0.0038 - val_e4_accuracy: 0.0000e+00 - val_e5_accuracy: 0.0263 - val_e6_accuracy: 0.0000e+00\n",
      "Epoch 16/40\n",
      "495/495 [==============================] - 190s 383ms/step - loss: 0.9882 - s_loss: 1.2208 - e1_loss: 0.6494 - e2_loss: 0.5492 - e3_loss: 0.4922 - e4_loss: 0.3123 - e5_loss: 0.3964 - e6_loss: 0.2732 - s_accuracy: 0.4785 - e1_accuracy: 0.6157 - e2_accuracy: 0.7450 - e3_accuracy: 0.7942 - e4_accuracy: 0.9009 - e5_accuracy: 0.8391 - e6_accuracy: 0.9176 - val_loss: 1.4390 - val_s_loss: 1.2776 - val_e1_loss: 0.6331 - val_e2_loss: 1.4010 - val_e3_loss: 1.6062 - val_e4_loss: 2.4319 - val_e5_loss: 2.0614 - val_e6_loss: 2.7608 - val_s_accuracy: 0.4590 - val_e1_accuracy: 0.6805 - val_e2_accuracy: 0.0202 - val_e3_accuracy: 0.0022 - val_e4_accuracy: 0.0000e+00 - val_e5_accuracy: 0.0246 - val_e6_accuracy: 0.0000e+00\n",
      "Epoch 17/40\n",
      "495/495 [==============================] - 190s 383ms/step - loss: 0.9807 - s_loss: 1.2106 - e1_loss: 0.6464 - e2_loss: 0.5481 - e3_loss: 0.4908 - e4_loss: 0.3122 - e5_loss: 0.3942 - e6_loss: 0.2735 - s_accuracy: 0.4819 - e1_accuracy: 0.6171 - e2_accuracy: 0.7463 - e3_accuracy: 0.7939 - e4_accuracy: 0.9009 - e5_accuracy: 0.8396 - e6_accuracy: 0.9176 - val_loss: 1.4441 - val_s_loss: 1.2926 - val_e1_loss: 0.7383 - val_e2_loss: 1.2889 - val_e3_loss: 1.6184 - val_e4_loss: 2.3659 - val_e5_loss: 1.9730 - val_e6_loss: 2.8022 - val_s_accuracy: 0.4617 - val_e1_accuracy: 0.5000 - val_e2_accuracy: 0.0454 - val_e3_accuracy: 0.0038 - val_e4_accuracy: 0.0000e+00 - val_e5_accuracy: 0.0602 - val_e6_accuracy: 0.0000e+00\n",
      "Epoch 18/40\n",
      "495/495 [==============================] - 190s 383ms/step - loss: 0.9719 - s_loss: 1.1986 - e1_loss: 0.6443 - e2_loss: 0.5480 - e3_loss: 0.4905 - e4_loss: 0.3105 - e5_loss: 0.3933 - e6_loss: 0.2719 - s_accuracy: 0.4883 - e1_accuracy: 0.6216 - e2_accuracy: 0.7446 - e3_accuracy: 0.7935 - e4_accuracy: 0.9011 - e5_accuracy: 0.8408 - e6_accuracy: 0.9176 - val_loss: 1.4385 - val_s_loss: 1.2780 - val_e1_loss: 0.7923 - val_e2_loss: 1.3366 - val_e3_loss: 1.5501 - val_e4_loss: 2.4789 - val_e5_loss: 1.9901 - val_e6_loss: 2.7297 - val_s_accuracy: 0.4562 - val_e1_accuracy: 0.4437 - val_e2_accuracy: 0.0547 - val_e3_accuracy: 0.0137 - val_e4_accuracy: 0.0000e+00 - val_e5_accuracy: 0.0492 - val_e6_accuracy: 0.0000e+00\n",
      "Epoch 19/40\n",
      "495/495 [==============================] - 190s 383ms/step - loss: 0.9644 - s_loss: 1.1880 - e1_loss: 0.6458 - e2_loss: 0.5472 - e3_loss: 0.4896 - e4_loss: 0.3118 - e5_loss: 0.3905 - e6_loss: 0.2716 - s_accuracy: 0.4960 - e1_accuracy: 0.6208 - e2_accuracy: 0.7456 - e3_accuracy: 0.7949 - e4_accuracy: 0.9009 - e5_accuracy: 0.8423 - e6_accuracy: 0.9176 - val_loss: 1.4424 - val_s_loss: 1.2873 - val_e1_loss: 0.7768 - val_e2_loss: 1.2989 - val_e3_loss: 1.5487 - val_e4_loss: 2.5343 - val_e5_loss: 1.8672 - val_e6_loss: 2.8009 - val_s_accuracy: 0.4551 - val_e1_accuracy: 0.4464 - val_e2_accuracy: 0.0361 - val_e3_accuracy: 0.0066 - val_e4_accuracy: 0.0000e+00 - val_e5_accuracy: 0.0405 - val_e6_accuracy: 0.0000e+00\n",
      "Epoch 20/40\n",
      "495/495 [==============================] - 190s 383ms/step - loss: 0.9588 - s_loss: 1.1804 - e1_loss: 0.6431 - e2_loss: 0.5468 - e3_loss: 0.4882 - e4_loss: 0.3106 - e5_loss: 0.3908 - e6_loss: 0.2720 - s_accuracy: 0.4934 - e1_accuracy: 0.6252 - e2_accuracy: 0.7475 - e3_accuracy: 0.7938 - e4_accuracy: 0.9010 - e5_accuracy: 0.8419 - e6_accuracy: 0.9176 - val_loss: 1.4776 - val_s_loss: 1.2857 - val_e1_loss: 0.6377 - val_e2_loss: 1.4377 - val_e3_loss: 1.7425 - val_e4_loss: 2.6570 - val_e5_loss: 2.2702 - val_e6_loss: 2.8080 - val_s_accuracy: 0.4420 - val_e1_accuracy: 0.6745 - val_e2_accuracy: 0.0230 - val_e3_accuracy: 0.0011 - val_e4_accuracy: 0.0000e+00 - val_e5_accuracy: 0.0268 - val_e6_accuracy: 0.0000e+00\n",
      "Epoch 21/40\n",
      "495/495 [==============================] - 189s 383ms/step - loss: 0.9470 - s_loss: 1.1640 - e1_loss: 0.6404 - e2_loss: 0.5450 - e3_loss: 0.4875 - e4_loss: 0.3101 - e5_loss: 0.3881 - e6_loss: 0.2728 - s_accuracy: 0.5086 - e1_accuracy: 0.6245 - e2_accuracy: 0.7458 - e3_accuracy: 0.7947 - e4_accuracy: 0.9011 - e5_accuracy: 0.8419 - e6_accuracy: 0.9176 - val_loss: 1.4657 - val_s_loss: 1.3070 - val_e1_loss: 0.5998 - val_e2_loss: 1.5076 - val_e3_loss: 1.7227 - val_e4_loss: 2.5055 - val_e5_loss: 2.1390 - val_e6_loss: 2.5407 - val_s_accuracy: 0.4420 - val_e1_accuracy: 0.7117 - val_e2_accuracy: 0.0208 - val_e3_accuracy: 0.0060 - val_e4_accuracy: 0.0000e+00 - val_e5_accuracy: 0.0432 - val_e6_accuracy: 0.0000e+00\n",
      "Epoch 22/40\n",
      "495/495 [==============================] - 190s 383ms/step - loss: 0.9371 - s_loss: 1.1502 - e1_loss: 0.6409 - e2_loss: 0.5445 - e3_loss: 0.4873 - e4_loss: 0.3103 - e5_loss: 0.3861 - e6_loss: 0.2707 - s_accuracy: 0.5130 - e1_accuracy: 0.6257 - e2_accuracy: 0.7472 - e3_accuracy: 0.7945 - e4_accuracy: 0.9008 - e5_accuracy: 0.8444 - e6_accuracy: 0.9176 - val_loss: 1.4726 - val_s_loss: 1.3118 - val_e1_loss: 0.6550 - val_e2_loss: 1.4811 - val_e3_loss: 1.6953 - val_e4_loss: 2.5671 - val_e5_loss: 2.0978 - val_e6_loss: 2.5903 - val_s_accuracy: 0.4497 - val_e1_accuracy: 0.6499 - val_e2_accuracy: 0.0213 - val_e3_accuracy: 0.0044 - val_e4_accuracy: 0.0000e+00 - val_e5_accuracy: 0.0301 - val_e6_accuracy: 0.0000e+00\n",
      "Epoch 23/40\n",
      "495/495 [==============================] - 190s 384ms/step - loss: 0.9313 - s_loss: 1.1417 - e1_loss: 0.6390 - e2_loss: 0.5459 - e3_loss: 0.4866 - e4_loss: 0.3114 - e5_loss: 0.3877 - e6_loss: 0.2714 - s_accuracy: 0.5210 - e1_accuracy: 0.6279 - e2_accuracy: 0.7457 - e3_accuracy: 0.7935 - e4_accuracy: 0.9009 - e5_accuracy: 0.8440 - e6_accuracy: 0.9175 - val_loss: 1.4989 - val_s_loss: 1.3246 - val_e1_loss: 0.6273 - val_e2_loss: 1.4573 - val_e3_loss: 1.7648 - val_e4_loss: 2.4868 - val_e5_loss: 2.4274 - val_e6_loss: 2.6710 - val_s_accuracy: 0.4497 - val_e1_accuracy: 0.6772 - val_e2_accuracy: 0.0224 - val_e3_accuracy: 0.0055 - val_e4_accuracy: 0.0000e+00 - val_e5_accuracy: 0.0208 - val_e6_accuracy: 5.4705e-04\n",
      "Epoch 24/40\n",
      "495/495 [==============================] - 190s 383ms/step - loss: 0.9228 - s_loss: 1.1305 - e1_loss: 0.6355 - e2_loss: 0.5438 - e3_loss: 0.4845 - e4_loss: 0.3104 - e5_loss: 0.3829 - e6_loss: 0.2728 - s_accuracy: 0.5244 - e1_accuracy: 0.6307 - e2_accuracy: 0.7484 - e3_accuracy: 0.7935 - e4_accuracy: 0.9011 - e5_accuracy: 0.8462 - e6_accuracy: 0.9175 - val_loss: 1.4936 - val_s_loss: 1.3304 - val_e1_loss: 0.7410 - val_e2_loss: 1.4164 - val_e3_loss: 1.7150 - val_e4_loss: 2.4812 - val_e5_loss: 2.1707 - val_e6_loss: 2.7228 - val_s_accuracy: 0.4508 - val_e1_accuracy: 0.5317 - val_e2_accuracy: 0.0438 - val_e3_accuracy: 0.0197 - val_e4_accuracy: 0.0000e+00 - val_e5_accuracy: 0.0591 - val_e6_accuracy: 0.0000e+00\n",
      "Epoch 25/40\n",
      "495/495 [==============================] - 190s 383ms/step - loss: 0.9103 - s_loss: 1.1126 - e1_loss: 0.6362 - e2_loss: 0.5440 - e3_loss: 0.4852 - e4_loss: 0.3118 - e5_loss: 0.3811 - e6_loss: 0.2717 - s_accuracy: 0.5307 - e1_accuracy: 0.6351 - e2_accuracy: 0.7460 - e3_accuracy: 0.7954 - e4_accuracy: 0.9009 - e5_accuracy: 0.8474 - e6_accuracy: 0.9175 - val_loss: 1.5414 - val_s_loss: 1.3422 - val_e1_loss: 0.6994 - val_e2_loss: 1.5748 - val_e3_loss: 1.8115 - val_e4_loss: 2.6564 - val_e5_loss: 2.2979 - val_e6_loss: 2.9977 - val_s_accuracy: 0.4595 - val_e1_accuracy: 0.5875 - val_e2_accuracy: 0.0202 - val_e3_accuracy: 0.0038 - val_e4_accuracy: 0.0000e+00 - val_e5_accuracy: 0.0394 - val_e6_accuracy: 0.0000e+00\n",
      "Epoch 26/40\n",
      "495/495 [==============================] - 190s 383ms/step - loss: 0.9014 - s_loss: 1.1000 - e1_loss: 0.6351 - e2_loss: 0.5440 - e3_loss: 0.4842 - e4_loss: 0.3116 - e5_loss: 0.3811 - e6_loss: 0.2726 - s_accuracy: 0.5425 - e1_accuracy: 0.6333 - e2_accuracy: 0.7465 - e3_accuracy: 0.7937 - e4_accuracy: 0.9011 - e5_accuracy: 0.8467 - e6_accuracy: 0.9176 - val_loss: 1.5171 - val_s_loss: 1.3464 - val_e1_loss: 0.6617 - val_e2_loss: 1.5565 - val_e3_loss: 1.7461 - val_e4_loss: 2.4946 - val_e5_loss: 2.3919 - val_e6_loss: 2.6412 - val_s_accuracy: 0.4480 - val_e1_accuracy: 0.6193 - val_e2_accuracy: 0.0153 - val_e3_accuracy: 0.0049 - val_e4_accuracy: 0.0000e+00 - val_e5_accuracy: 0.0306 - val_e6_accuracy: 5.4705e-04\n",
      "Epoch 27/40\n",
      "495/495 [==============================] - 190s 383ms/step - loss: 0.8909 - s_loss: 1.0856 - e1_loss: 0.6330 - e2_loss: 0.5427 - e3_loss: 0.4828 - e4_loss: 0.3107 - e5_loss: 0.3780 - e6_loss: 0.2726 - s_accuracy: 0.5471 - e1_accuracy: 0.6398 - e2_accuracy: 0.7481 - e3_accuracy: 0.7964 - e4_accuracy: 0.9013 - e5_accuracy: 0.8486 - e6_accuracy: 0.9177 - val_loss: 1.5218 - val_s_loss: 1.3697 - val_e1_loss: 0.6894 - val_e2_loss: 1.4656 - val_e3_loss: 1.6949 - val_e4_loss: 2.5424 - val_e5_loss: 2.0965 - val_e6_loss: 2.7725 - val_s_accuracy: 0.4491 - val_e1_accuracy: 0.6149 - val_e2_accuracy: 0.0361 - val_e3_accuracy: 0.0246 - val_e4_accuracy: 0.0000e+00 - val_e5_accuracy: 0.0580 - val_e6_accuracy: 0.0000e+00\n",
      "Epoch 28/40\n",
      "495/495 [==============================] - 190s 383ms/step - loss: 0.8845 - s_loss: 1.0766 - e1_loss: 0.6313 - e2_loss: 0.5416 - e3_loss: 0.4833 - e4_loss: 0.3105 - e5_loss: 0.3795 - e6_loss: 0.2719 - s_accuracy: 0.5487 - e1_accuracy: 0.6387 - e2_accuracy: 0.7475 - e3_accuracy: 0.7947 - e4_accuracy: 0.9009 - e5_accuracy: 0.8470 - e6_accuracy: 0.9175 - val_loss: 1.5192 - val_s_loss: 1.3813 - val_e1_loss: 0.7654 - val_e2_loss: 1.3525 - val_e3_loss: 1.6075 - val_e4_loss: 2.4323 - val_e5_loss: 2.0811 - val_e6_loss: 2.8066 - val_s_accuracy: 0.4502 - val_e1_accuracy: 0.5126 - val_e2_accuracy: 0.0356 - val_e3_accuracy: 0.0148 - val_e4_accuracy: 0.0000e+00 - val_e5_accuracy: 0.0438 - val_e6_accuracy: 0.0000e+00\n",
      "Epoch 29/40\n",
      "495/495 [==============================] - 191s 385ms/step - loss: 0.8745 - s_loss: 1.0623 - e1_loss: 0.6301 - e2_loss: 0.5417 - e3_loss: 0.4828 - e4_loss: 0.3115 - e5_loss: 0.3788 - e6_loss: 0.2725 - s_accuracy: 0.5621 - e1_accuracy: 0.6405 - e2_accuracy: 0.7502 - e3_accuracy: 0.7944 - e4_accuracy: 0.9009 - e5_accuracy: 0.8479 - e6_accuracy: 0.9175 - val_loss: 1.5490 - val_s_loss: 1.3805 - val_e1_loss: 0.6672 - val_e2_loss: 1.6116 - val_e3_loss: 1.7422 - val_e4_loss: 2.4657 - val_e5_loss: 2.2554 - val_e6_loss: 2.9101 - val_s_accuracy: 0.4393 - val_e1_accuracy: 0.6565 - val_e2_accuracy: 0.0268 - val_e3_accuracy: 0.0175 - val_e4_accuracy: 0.0000e+00 - val_e5_accuracy: 0.0454 - val_e6_accuracy: 0.0000e+00\n",
      "Epoch 30/40\n",
      "495/495 [==============================] - 190s 384ms/step - loss: 0.8632 - s_loss: 1.0465 - e1_loss: 0.6294 - e2_loss: 0.5427 - e3_loss: 0.4820 - e4_loss: 0.3101 - e5_loss: 0.3766 - e6_loss: 0.2722 - s_accuracy: 0.5625 - e1_accuracy: 0.6393 - e2_accuracy: 0.7489 - e3_accuracy: 0.7951 - e4_accuracy: 0.9010 - e5_accuracy: 0.8481 - e6_accuracy: 0.9175 - val_loss: 1.5506 - val_s_loss: 1.4014 - val_e1_loss: 0.7710 - val_e2_loss: 1.4493 - val_e3_loss: 1.6070 - val_e4_loss: 2.6330 - val_e5_loss: 2.1944 - val_e6_loss: 2.7378 - val_s_accuracy: 0.4431 - val_e1_accuracy: 0.4929 - val_e2_accuracy: 0.0317 - val_e3_accuracy: 0.0137 - val_e4_accuracy: 5.4705e-04 - val_e5_accuracy: 0.0372 - val_e6_accuracy: 0.0000e+00\n",
      "Epoch 31/40\n",
      "495/495 [==============================] - 190s 383ms/step - loss: 0.8585 - s_loss: 1.0400 - e1_loss: 0.6290 - e2_loss: 0.5404 - e3_loss: 0.4833 - e4_loss: 0.3108 - e5_loss: 0.3757 - e6_loss: 0.2713 - s_accuracy: 0.5663 - e1_accuracy: 0.6419 - e2_accuracy: 0.7494 - e3_accuracy: 0.7951 - e4_accuracy: 0.9010 - e5_accuracy: 0.8483 - e6_accuracy: 0.9175 - val_loss: 1.5802 - val_s_loss: 1.4268 - val_e1_loss: 0.6909 - val_e2_loss: 1.5431 - val_e3_loss: 1.6960 - val_e4_loss: 2.5688 - val_e5_loss: 2.3385 - val_e6_loss: 2.7910 - val_s_accuracy: 0.4272 - val_e1_accuracy: 0.6078 - val_e2_accuracy: 0.0306 - val_e3_accuracy: 0.0082 - val_e4_accuracy: 5.4705e-04 - val_e5_accuracy: 0.0383 - val_e6_accuracy: 0.0000e+00\n",
      "Epoch 32/40\n",
      "495/495 [==============================] - 190s 383ms/step - loss: 0.8533 - s_loss: 1.0323 - e1_loss: 0.6286 - e2_loss: 0.5417 - e3_loss: 0.4827 - e4_loss: 0.3103 - e5_loss: 0.3780 - e6_loss: 0.2726 - s_accuracy: 0.5704 - e1_accuracy: 0.6413 - e2_accuracy: 0.7495 - e3_accuracy: 0.7940 - e4_accuracy: 0.9010 - e5_accuracy: 0.8482 - e6_accuracy: 0.9176 - val_loss: 1.5605 - val_s_loss: 1.4307 - val_e1_loss: 0.6899 - val_e2_loss: 1.4083 - val_e3_loss: 1.6852 - val_e4_loss: 2.4771 - val_e5_loss: 2.2189 - val_e6_loss: 2.6997 - val_s_accuracy: 0.4382 - val_e1_accuracy: 0.5990 - val_e2_accuracy: 0.0547 - val_e3_accuracy: 0.0093 - val_e4_accuracy: 5.4705e-04 - val_e5_accuracy: 0.0487 - val_e6_accuracy: 0.0000e+00\n",
      "Epoch 33/40\n",
      "495/495 [==============================] - 190s 383ms/step - loss: 0.8380 - s_loss: 1.0111 - e1_loss: 0.6277 - e2_loss: 0.5404 - e3_loss: 0.4821 - e4_loss: 0.3094 - e5_loss: 0.3727 - e6_loss: 0.2714 - s_accuracy: 0.5790 - e1_accuracy: 0.6435 - e2_accuracy: 0.7496 - e3_accuracy: 0.7946 - e4_accuracy: 0.9011 - e5_accuracy: 0.8521 - e6_accuracy: 0.9175 - val_loss: 1.5938 - val_s_loss: 1.4536 - val_e1_loss: 0.6766 - val_e2_loss: 1.4942 - val_e3_loss: 1.7519 - val_e4_loss: 2.5841 - val_e5_loss: 2.2417 - val_e6_loss: 2.7767 - val_s_accuracy: 0.4354 - val_e1_accuracy: 0.6100 - val_e2_accuracy: 0.0312 - val_e3_accuracy: 0.0120 - val_e4_accuracy: 5.4705e-04 - val_e5_accuracy: 0.0377 - val_e6_accuracy: 0.0000e+00\n",
      "Epoch 34/40\n",
      "495/495 [==============================] - 190s 383ms/step - loss: 0.8344 - s_loss: 1.0058 - e1_loss: 0.6267 - e2_loss: 0.5409 - e3_loss: 0.4826 - e4_loss: 0.3093 - e5_loss: 0.3740 - e6_loss: 0.2724 - s_accuracy: 0.5850 - e1_accuracy: 0.6426 - e2_accuracy: 0.7498 - e3_accuracy: 0.7942 - e4_accuracy: 0.9012 - e5_accuracy: 0.8483 - e6_accuracy: 0.9176 - val_loss: 1.5887 - val_s_loss: 1.4701 - val_e1_loss: 0.7210 - val_e2_loss: 1.5262 - val_e3_loss: 1.6444 - val_e4_loss: 2.3489 - val_e5_loss: 2.1860 - val_e6_loss: 2.7661 - val_s_accuracy: 0.4387 - val_e1_accuracy: 0.5733 - val_e2_accuracy: 0.0284 - val_e3_accuracy: 0.0104 - val_e4_accuracy: 5.4705e-04 - val_e5_accuracy: 0.0432 - val_e6_accuracy: 0.0000e+00\n",
      "Epoch 35/40\n",
      "495/495 [==============================] - 190s 384ms/step - loss: 0.8246 - s_loss: 0.9922 - e1_loss: 0.6248 - e2_loss: 0.5400 - e3_loss: 0.4814 - e4_loss: 0.3098 - e5_loss: 0.3728 - e6_loss: 0.2724 - s_accuracy: 0.5906 - e1_accuracy: 0.6500 - e2_accuracy: 0.7475 - e3_accuracy: 0.7951 - e4_accuracy: 0.9011 - e5_accuracy: 0.8500 - e6_accuracy: 0.9175 - val_loss: 1.6030 - val_s_loss: 1.4876 - val_e1_loss: 0.6888 - val_e2_loss: 1.4485 - val_e3_loss: 1.6660 - val_e4_loss: 2.5338 - val_e5_loss: 2.1052 - val_e6_loss: 2.7902 - val_s_accuracy: 0.4196 - val_e1_accuracy: 0.6111 - val_e2_accuracy: 0.0432 - val_e3_accuracy: 0.0170 - val_e4_accuracy: 0.0000e+00 - val_e5_accuracy: 0.0542 - val_e6_accuracy: 0.0000e+00\n",
      "Epoch 36/40\n",
      "495/495 [==============================] - 190s 384ms/step - loss: 0.8160 - s_loss: 0.9801 - e1_loss: 0.6251 - e2_loss: 0.5389 - e3_loss: 0.4809 - e4_loss: 0.3110 - e5_loss: 0.3710 - e6_loss: 0.2715 - s_accuracy: 0.5958 - e1_accuracy: 0.6446 - e2_accuracy: 0.7475 - e3_accuracy: 0.7935 - e4_accuracy: 0.9011 - e5_accuracy: 0.8500 - e6_accuracy: 0.9176 - val_loss: 1.5868 - val_s_loss: 1.4739 - val_e1_loss: 0.6981 - val_e2_loss: 1.4492 - val_e3_loss: 1.5877 - val_e4_loss: 2.4631 - val_e5_loss: 2.0726 - val_e6_loss: 2.8314 - val_s_accuracy: 0.4272 - val_e1_accuracy: 0.6143 - val_e2_accuracy: 0.0421 - val_e3_accuracy: 0.0202 - val_e4_accuracy: 0.0000e+00 - val_e5_accuracy: 0.0531 - val_e6_accuracy: 0.0000e+00\n",
      "Epoch 37/40\n",
      "495/495 [==============================] - 190s 383ms/step - loss: 0.8121 - s_loss: 0.9746 - e1_loss: 0.6231 - e2_loss: 0.5400 - e3_loss: 0.4807 - e4_loss: 0.3096 - e5_loss: 0.3730 - e6_loss: 0.2717 - s_accuracy: 0.6033 - e1_accuracy: 0.6487 - e2_accuracy: 0.7491 - e3_accuracy: 0.7948 - e4_accuracy: 0.9012 - e5_accuracy: 0.8496 - e6_accuracy: 0.9176 - val_loss: 1.6226 - val_s_loss: 1.5100 - val_e1_loss: 0.6906 - val_e2_loss: 1.4536 - val_e3_loss: 1.7847 - val_e4_loss: 2.3899 - val_e5_loss: 2.4129 - val_e6_loss: 2.5800 - val_s_accuracy: 0.4415 - val_e1_accuracy: 0.5952 - val_e2_accuracy: 0.0361 - val_e3_accuracy: 0.0077 - val_e4_accuracy: 0.0011 - val_e5_accuracy: 0.0345 - val_e6_accuracy: 0.0000e+00\n",
      "Epoch 38/40\n",
      "495/495 [==============================] - 190s 383ms/step - loss: 0.8055 - s_loss: 0.9654 - e1_loss: 0.6225 - e2_loss: 0.5408 - e3_loss: 0.4790 - e4_loss: 0.3102 - e5_loss: 0.3701 - e6_loss: 0.2717 - s_accuracy: 0.6023 - e1_accuracy: 0.6483 - e2_accuracy: 0.7498 - e3_accuracy: 0.7976 - e4_accuracy: 0.9013 - e5_accuracy: 0.8507 - e6_accuracy: 0.9175 - val_loss: 1.6238 - val_s_loss: 1.5133 - val_e1_loss: 0.7425 - val_e2_loss: 1.4406 - val_e3_loss: 1.6768 - val_e4_loss: 2.5914 - val_e5_loss: 2.1833 - val_e6_loss: 2.6541 - val_s_accuracy: 0.4196 - val_e1_accuracy: 0.5629 - val_e2_accuracy: 0.0350 - val_e3_accuracy: 0.0197 - val_e4_accuracy: 5.4705e-04 - val_e5_accuracy: 0.0449 - val_e6_accuracy: 0.0000e+00\n",
      "Epoch 39/40\n",
      "495/495 [==============================] - 189s 383ms/step - loss: 0.8000 - s_loss: 0.9571 - e1_loss: 0.6251 - e2_loss: 0.5412 - e3_loss: 0.4805 - e4_loss: 0.3114 - e5_loss: 0.3703 - e6_loss: 0.2725 - s_accuracy: 0.6122 - e1_accuracy: 0.6511 - e2_accuracy: 0.7496 - e3_accuracy: 0.7955 - e4_accuracy: 0.9011 - e5_accuracy: 0.8536 - e6_accuracy: 0.9175 - val_loss: 1.6294 - val_s_loss: 1.5142 - val_e1_loss: 0.7543 - val_e2_loss: 1.4787 - val_e3_loss: 1.7258 - val_e4_loss: 2.4854 - val_e5_loss: 2.1932 - val_e6_loss: 2.7515 - val_s_accuracy: 0.4272 - val_e1_accuracy: 0.5334 - val_e2_accuracy: 0.0438 - val_e3_accuracy: 0.0241 - val_e4_accuracy: 0.0000e+00 - val_e5_accuracy: 0.0520 - val_e6_accuracy: 0.0000e+00\n",
      "Epoch 40/40\n",
      "495/495 [==============================] - 190s 383ms/step - loss: 0.7887 - s_loss: 0.9415 - e1_loss: 0.6222 - e2_loss: 0.5402 - e3_loss: 0.4798 - e4_loss: 0.3086 - e5_loss: 0.3704 - e6_loss: 0.2723 - s_accuracy: 0.6125 - e1_accuracy: 0.6507 - e2_accuracy: 0.7475 - e3_accuracy: 0.7944 - e4_accuracy: 0.9010 - e5_accuracy: 0.8484 - e6_accuracy: 0.9176 - val_loss: 1.6348 - val_s_loss: 1.5403 - val_e1_loss: 0.6930 - val_e2_loss: 1.5185 - val_e3_loss: 1.6719 - val_e4_loss: 2.4136 - val_e5_loss: 2.1753 - val_e6_loss: 2.6598 - val_s_accuracy: 0.4289 - val_e1_accuracy: 0.6089 - val_e2_accuracy: 0.0301 - val_e3_accuracy: 0.0175 - val_e4_accuracy: 5.4705e-04 - val_e5_accuracy: 0.0443 - val_e6_accuracy: 0.0000e+00\n"
     ]
    }
   ],
   "source": [
    "from mtl.network import net\n",
    "from mtl.train import train_model\n",
    "from tensorboard.plugins.hparams import api as hp\n",
    "\n",
    "model_name = 'mtl_five_sentiments'\n",
    "saved_model_name = 'models/'+ model_name + '.h5'\n",
    "print('models/'+ model_name + '.h5')\n",
    "batch_size=32\n",
    "epochs=40\n",
    "gru_output_size=128\n",
    "dropout=0.2\n",
    "recurrent_dropout=0.2\n",
    "tensorboard = True\n",
    "loss_weights = [0.7, 0.05, 0.05, 0.05, 0.05, 0.05, 0.05]\n",
    "print(vocab_size)\n",
    "\n",
    "\n",
    "train_model(vocab_size = vocab_size, embedd_matrix = embedd_matrix, data_x = X_train_pad, data_y = y_mtl_train, val_x = X_val_pad, val_y = y_mtl_val, model_name=model_name, saved_model_name=saved_model_name, batch_size=32, epochs=epochs, tensorboard=tensorboard, loss_weights=loss_weights)"
   ]
  },
  {
   "cell_type": "markdown",
   "metadata": {},
   "source": [
    "###Predict"
   ]
  },
  {
   "cell_type": "code",
   "execution_count": 16,
   "metadata": {},
   "outputs": [
    {
     "name": "stdout",
     "output_type": "stream",
     "text": [
      "(5,)\n",
      "Accuracy: 40.89%\n",
      "\n",
      "F1 Score: 40.89\n"
     ]
    }
   ],
   "source": [
    "#predict\n",
    "from mtl.predict import test_model\n",
    "\n",
    "file_name = 'models/mtl_five_sentiments.h5'\n",
    "num_classes = 5\n",
    "num_classes1 = 2\n",
    "embed_num_dims = 300\n",
    "max_seq_len = 500\n",
    "\n",
    "#change those according to the model you are testing\n",
    "num_of_sentiments = True\n",
    "\n",
    "test_model(file_name, mtl = True, data_y= data_test, data_x=X_test_pad)"
   ]
  },
  {
   "cell_type": "markdown",
   "metadata": {},
   "source": [
    "###Tensorboard"
   ]
  },
  {
   "cell_type": "markdown",
   "metadata": {},
   "source": [
    "If running locally please use the following to access tensorboard:"
   ]
  },
  {
   "cell_type": "code",
   "execution_count": 5,
   "metadata": {},
   "outputs": [
    {
     "name": "stdout",
     "output_type": "stream",
     "text": [
      "2022-04-04 19:18:29.879191: E tensorflow/stream_executor/cuda/cuda_driver.cc:271] failed call to cuInit: CUDA_ERROR_NO_DEVICE: no CUDA-capable device is detected\n",
      "TensorBoard 2.7.0 at http://localhost:6006/ (Press CTRL+C to quit)\n",
      "^C\n"
     ]
    }
   ],
   "source": [
    "!tensorboard --logdir=logs/fit --host localhost --port 6006\n",
    "\n",
    "#then open browser and go to: http://localhost:6006"
   ]
  },
  {
   "cell_type": "markdown",
   "metadata": {},
   "source": [
    "If running on colab please use the following to access tensorboard and follow prompts"
   ]
  },
  {
   "cell_type": "code",
   "execution_count": null,
   "metadata": {},
   "outputs": [],
   "source": [
    "!tensorboard dev upload --logdir ./logs \\\n",
    "  --name \"Experiments\" \\yes\n",
    "  --description \"Training results\" \\\n",
    "  --one_shot"
   ]
  }
 ],
 "metadata": {
  "interpreter": {
   "hash": "e7370f93d1d0cde622a1f8e1c04877d8463912d04d973331ad4851f04de6915a"
  },
  "kernelspec": {
   "display_name": "Python 3.8.10 64-bit",
   "language": "python",
   "name": "python3"
  },
  "language_info": {
   "codemirror_mode": {
    "name": "ipython",
    "version": 3
   },
   "file_extension": ".py",
   "mimetype": "text/x-python",
   "name": "python",
   "nbconvert_exporter": "python",
   "pygments_lexer": "ipython3",
   "version": "3.8.10"
  },
  "orig_nbformat": 4
 },
 "nbformat": 4,
 "nbformat_minor": 2
}
