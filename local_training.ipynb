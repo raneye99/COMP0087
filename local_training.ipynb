{
 "cells": [
  {
   "cell_type": "code",
   "execution_count": 1,
   "metadata": {},
   "outputs": [],
   "source": [
    "#import libraries\n",
    "import pickle\n",
    "from collections import defaultdict\n",
    "from urllib.request import urlopen\n",
    "import numpy as np\n",
    "import pandas as pd\n",
    "import os\n",
    "import h5py\n",
    "import sys\n",
    "import requests\n",
    "import zipfile\n",
    "import inspect"
   ]
  },
  {
   "cell_type": "markdown",
   "metadata": {},
   "source": [
    "#Download Data"
   ]
  },
  {
   "cell_type": "code",
   "execution_count": 2,
   "metadata": {},
   "outputs": [],
   "source": [
    "\n",
    "\n",
    "#file located here: https://drive.google.com/file/d/1tcVYIMcZdlDzGuJvnMtbMchKIK9ulW1P/view\n",
    "\n",
    "#make data directory if doesn't exist in path folder\n",
    "os.makedirs('data', exist_ok=True)\n",
    "\n",
    "#download meld and mosei zip files for data (mosei is from CMU, meld is friends episodes)\n",
    "if('mosei' in  os.listdir('data')):\n",
    "    pass\n",
    "else:\n",
    "    !file=1tcVYIMcZdlDzGuJvnMtbMchKIK9ulW1P && wget --load-cookies /tmp/cookies.txt \"https://docs.google.com/uc?export=download&confirm=$(wget --quiet --save-cookies /tmp/cookies.txt --keep-session-cookies --no-check-certificate 'https://docs.google.com/uc?export=download&id='${file} -O- | sed -rn 's/.*confirm=([0-9A-Za-z_]+).*/\\1\\n/p')&id=\"${file} -O data/data.zip && rm -rf /tmp/cookies.txt\n",
    "\n",
    "    #unzip data\n",
    "    !unzip data/data.zip -d data/mosei"
   ]
  },
  {
   "cell_type": "markdown",
   "metadata": {},
   "source": [
    "#Preprocess our Data"
   ]
  },
  {
   "cell_type": "code",
   "execution_count": 2,
   "metadata": {},
   "outputs": [
    {
     "name": "stderr",
     "output_type": "stream",
     "text": [
      "[nltk_data] Downloading package punkt to /home/eileen/nltk_data...\n",
      "[nltk_data]   Package punkt is already up-to-date!\n"
     ]
    },
    {
     "name": "stdout",
     "output_type": "stream",
     "text": [
      "Training data sentiment statistics\n",
      "3.0    6795\n",
      "4.0    4120\n",
      "2.0    2040\n",
      "5.0    1549\n",
      "1.0    1305\n",
      "Name: sentiment, dtype: int64\n",
      "Test data sentiment statistics\n",
      "3.0    1927\n",
      "4.0    1230\n",
      "2.0     554\n",
      "5.0     441\n",
      "1.0     399\n",
      "Name: sentiment, dtype: int64\n",
      "Validation data sentiment statistics\n",
      "3.0    835\n",
      "4.0    470\n",
      "2.0    244\n",
      "5.0    169\n",
      "1.0    110\n",
      "Name: sentiment, dtype: int64\n",
      "[ 'should ' 'sp ' 'convict ' 'him ' 'sp ' 'grandpre ' 'sp ' 'well ' 'the ' 'opening' 'statement ' 'started ' 'off ' 'sp ' 'pretty ' 'technical ' 'explaining ' 'some' 'of ' 'the ' 'nuances ' 'sp ' 'of ' 'the ' 'baltimore ' 'police ' 'department' 'sp ' 'but ' 'it ' 'ended ' ]\n",
      "Number of unique words: 20377\n",
      "{'1.0': 0, '2.0': 1, '3.0': 2, '4.0': 3, '5.0': 4}\n",
      "Words found in wiki vocab: 702\n",
      "New words found: 19675\n"
     ]
    }
   ],
   "source": [
    "\n",
    "from mtl.preprocess import clean_text, create_embedding_matrix, data_processing\n",
    "\n",
    "X_train, X_test, X_train_pad, X_test_pad, y_train, y_test, y_train1, y_test1, y_train2, y_test2, y_train3, y_test3, y_train4, y_test4, y_train5, y_test5, y_train6, y_test6, embedd_matrix, vocab_size, X_val, X_val_pad, y_val, y_val1, y_val2, y_val3, y_val4, y_val5, y_val6, data_test = data_processing()\n",
    "\n",
    "y_mtl_train = (y_train, y_train1, y_train2, y_train3, y_train4, y_train5, y_train6 )\n",
    "y_mtl_val = (y_val, y_val1, y_val2, y_val3, y_val4, y_val5, y_val6)\n",
    "\n",
    "y_emo_train = (y_train1, y_train2, y_train3, y_train4, y_train5, y_train6 )\n",
    "y_emo_val = (y_val1, y_val2, y_val3, y_val4, y_val5, y_val6)\n"
   ]
  },
  {
   "cell_type": "markdown",
   "metadata": {},
   "source": [
    "#Expiriments"
   ]
  },
  {
   "cell_type": "markdown",
   "metadata": {},
   "source": [
    "##Expiriment 1: Baseline LSTM 5 Sentiments"
   ]
  },
  {
   "cell_type": "markdown",
   "metadata": {},
   "source": [
    "###Training"
   ]
  },
  {
   "cell_type": "code",
   "execution_count": 4,
   "metadata": {},
   "outputs": [
    {
     "name": "stdout",
     "output_type": "stream",
     "text": [
      "models/lstm_one_task_sentiment_five.h5\n",
      "20378\n",
      "Training a lstm_one_task_sentiment_five model!\n",
      "Model: \"model\"\n",
      "_________________________________________________________________\n",
      " Layer (type)                Output Shape              Param #   \n",
      "=================================================================\n",
      " input_1 (InputLayer)        [(None, 500)]             0         \n",
      "                                                                 \n",
      " embedding (Embedding)       (None, 500, 300)          6113400   \n",
      "                                                                 \n",
      " bidirectional (Bidirectiona  (None, 256)              439296    \n",
      " l)                                                              \n",
      "                                                                 \n",
      " s (Dense)                   (None, 5)                 1285      \n",
      "                                                                 \n",
      "=================================================================\n",
      "Total params: 6,553,981\n",
      "Trainable params: 440,581\n",
      "Non-trainable params: 6,113,400\n",
      "_________________________________________________________________\n",
      "Epoch 1/10\n",
      "495/495 [==============================] - 192s 385ms/step - loss: 1.4115 - accuracy: 0.4260 - val_loss: 1.3633 - val_accuracy: 0.4568\n",
      "Epoch 2/10\n",
      "495/495 [==============================] - 217s 438ms/step - loss: 1.3775 - accuracy: 0.4304 - val_loss: 1.4029 - val_accuracy: 0.4573\n",
      "Epoch 3/10\n",
      "495/495 [==============================] - 239s 482ms/step - loss: 1.3875 - accuracy: 0.4284 - val_loss: 1.3556 - val_accuracy: 0.4568\n",
      "Epoch 4/10\n",
      "495/495 [==============================] - 234s 473ms/step - loss: 1.3621 - accuracy: 0.4298 - val_loss: 1.3044 - val_accuracy: 0.4644\n",
      "Epoch 5/10\n",
      "495/495 [==============================] - 228s 462ms/step - loss: 1.3357 - accuracy: 0.4380 - val_loss: 1.3002 - val_accuracy: 0.4639\n",
      "Epoch 6/10\n",
      "495/495 [==============================] - 226s 457ms/step - loss: 1.3217 - accuracy: 0.4396 - val_loss: 1.2780 - val_accuracy: 0.4666\n",
      "Epoch 7/10\n",
      "495/495 [==============================] - 223s 451ms/step - loss: 1.3123 - accuracy: 0.4394 - val_loss: 1.2993 - val_accuracy: 0.4546\n",
      "Epoch 8/10\n",
      "495/495 [==============================] - 220s 444ms/step - loss: 1.3108 - accuracy: 0.4439 - val_loss: 1.2741 - val_accuracy: 0.4776\n",
      "Epoch 9/10\n",
      "495/495 [==============================] - 232s 469ms/step - loss: 1.3026 - accuracy: 0.4444 - val_loss: 1.2807 - val_accuracy: 0.4639\n",
      "Epoch 10/10\n",
      "495/495 [==============================] - 234s 472ms/step - loss: 1.2980 - accuracy: 0.4477 - val_loss: 1.2610 - val_accuracy: 0.4765\n"
     ]
    }
   ],
   "source": [
    "#train\n",
    "\n",
    "from mtl.network import net\n",
    "from mtl.train import train_model\n",
    "from tensorboard.plugins.hparams import api as hp\n",
    "\n",
    "model_name = 'lstm_one_task_sentiment_five'\n",
    "saved_model_name = 'models/'+ model_name + '.h5'\n",
    "print('models/'+ model_name + '.h5')\n",
    "batch_size=32\n",
    "epochs=10\n",
    "gru_output_size=128\n",
    "dropout=0.2\n",
    "recurrent_dropout=0.2\n",
    "tensorboard = True\n",
    "loss_weights = [0.4, 0.1, 0.1, 0.1, 0.1, 0.1, 0.1]\n",
    "print(vocab_size)\n",
    "\n",
    "\n",
    "train_model(vocab_size = vocab_size, embedd_matrix = embedd_matrix, data_x = X_train_pad, data_y = y_train, val_x = X_val_pad, val_y = y_val, model_name=model_name, saved_model_name=saved_model_name, batch_size=32, epochs=epochs, tensorboard=tensorboard, loss_weights=loss_weights)"
   ]
  },
  {
   "cell_type": "markdown",
   "metadata": {},
   "source": [
    "###Predict"
   ]
  },
  {
   "cell_type": "code",
   "execution_count": 5,
   "metadata": {},
   "outputs": [
    {
     "name": "stdout",
     "output_type": "stream",
     "text": [
      "Accuracy: 44.06%\n",
      "\n",
      "F1 Score: 44.06\n"
     ]
    }
   ],
   "source": [
    "#predict\n",
    "from mtl.predict import test_model\n",
    "\n",
    "file_name = 'models/lstm_one_task_sentiment_five.h5'\n",
    "num_classes = 5\n",
    "num_classes1 = 2\n",
    "embed_num_dims = 300\n",
    "max_seq_len = 500\n",
    "\n",
    "#change those according to the model you are testing\n",
    "num_of_sentiments = True\n",
    "\n",
    "test_model(file_name, mtl = False, data_y= data_test, data_x=X_test_pad)"
   ]
  },
  {
   "cell_type": "markdown",
   "metadata": {},
   "source": [
    "###Tensorboard"
   ]
  },
  {
   "cell_type": "code",
   "execution_count": null,
   "metadata": {},
   "outputs": [],
   "source": [
    "!tensorboard --logdir=logs/fit --host localhost --port 6006\n",
    "\n",
    "#then open browser and go to: http://localhost:6006"
   ]
  },
  {
   "cell_type": "markdown",
   "metadata": {},
   "source": [
    "##Expiriment Two: Baseline GRU 5 Sentiments"
   ]
  },
  {
   "cell_type": "markdown",
   "metadata": {},
   "source": [
    "###Train"
   ]
  },
  {
   "cell_type": "code",
   "execution_count": 4,
   "metadata": {},
   "outputs": [
    {
     "name": "stdout",
     "output_type": "stream",
     "text": [
      "models/gru_one_task_sentiment_five.h5\n",
      "20378\n",
      "Training a gru_one_task_sentiment_five model!\n",
      "Model: \"model\"\n",
      "_________________________________________________________________\n",
      " Layer (type)                Output Shape              Param #   \n",
      "=================================================================\n",
      " input_1 (InputLayer)        [(None, 500)]             0         \n",
      "                                                                 \n",
      " embedding (Embedding)       (None, 500, 300)          6113400   \n",
      "                                                                 \n",
      " bidirectional (Bidirectiona  (None, 256)              330240    \n",
      " l)                                                              \n",
      "                                                                 \n",
      " s (Dense)                   (None, 5)                 1285      \n",
      "                                                                 \n",
      "=================================================================\n",
      "Total params: 6,444,925\n",
      "Trainable params: 331,525\n",
      "Non-trainable params: 6,113,400\n",
      "_________________________________________________________________\n",
      "Epoch 1/10\n",
      "495/495 [==============================] - 219s 438ms/step - loss: 1.4113 - accuracy: 0.4301 - val_loss: 1.3585 - val_accuracy: 0.4568\n",
      "Epoch 2/10\n",
      "495/495 [==============================] - 231s 467ms/step - loss: 1.3643 - accuracy: 0.4342 - val_loss: 1.3525 - val_accuracy: 0.4519\n",
      "Epoch 3/10\n",
      "495/495 [==============================] - 233s 471ms/step - loss: 1.3351 - accuracy: 0.4410 - val_loss: 1.2902 - val_accuracy: 0.4672\n",
      "Epoch 4/10\n",
      "495/495 [==============================] - 224s 452ms/step - loss: 1.3229 - accuracy: 0.4431 - val_loss: 1.2804 - val_accuracy: 0.4765\n",
      "Epoch 5/10\n",
      "495/495 [==============================] - 203s 410ms/step - loss: 1.3091 - accuracy: 0.4455 - val_loss: 1.2646 - val_accuracy: 0.4759\n",
      "Epoch 6/10\n",
      "495/495 [==============================] - 211s 427ms/step - loss: 1.2978 - accuracy: 0.4460 - val_loss: 1.2517 - val_accuracy: 0.4754\n",
      "Epoch 7/10\n",
      "495/495 [==============================] - 256s 517ms/step - loss: 1.2889 - accuracy: 0.4517 - val_loss: 1.2501 - val_accuracy: 0.4787\n",
      "Epoch 8/10\n",
      "495/495 [==============================] - 214s 432ms/step - loss: 1.2795 - accuracy: 0.4537 - val_loss: 1.2499 - val_accuracy: 0.4721\n",
      "Epoch 9/10\n",
      "495/495 [==============================] - 203s 411ms/step - loss: 1.2740 - accuracy: 0.4602 - val_loss: 1.2472 - val_accuracy: 0.4765\n",
      "Epoch 10/10\n",
      "495/495 [==============================] - 212s 429ms/step - loss: 1.2675 - accuracy: 0.4594 - val_loss: 1.2470 - val_accuracy: 0.4858\n"
     ]
    }
   ],
   "source": [
    "from mtl.network import net\n",
    "from mtl.train import train_model\n",
    "from tensorboard.plugins.hparams import api as hp\n",
    "model_name = 'gru_one_task_sentiment_five'\n",
    "saved_model_name = 'models/'+ model_name + '.h5'\n",
    "print('models/'+ model_name + '.h5')\n",
    "batch_size=32\n",
    "epochs=10\n",
    "gru_output_size=128\n",
    "dropout=0.2\n",
    "recurrent_dropout=0.2\n",
    "tensorboard = True\n",
    "loss_weights = [0.4, 0.1, 0.1, 0.1, 0.1, 0.1, 0.1]\n",
    "print(vocab_size)\n",
    "\n",
    "\n",
    "train_model(vocab_size = vocab_size, embedd_matrix = embedd_matrix, data_x = X_train_pad, data_y = y_train, val_x = X_val_pad, val_y = y_val, model_name=model_name, saved_model_name=saved_model_name, batch_size=32, epochs=epochs, tensorboard=tensorboard, loss_weights=loss_weights)"
   ]
  },
  {
   "cell_type": "markdown",
   "metadata": {},
   "source": [
    "###Predict"
   ]
  },
  {
   "cell_type": "code",
   "execution_count": 5,
   "metadata": {},
   "outputs": [
    {
     "name": "stdout",
     "output_type": "stream",
     "text": [
      "Accuracy: 44.21%\n",
      "\n",
      "F1 Score: 44.21\n"
     ]
    }
   ],
   "source": [
    "#predict\n",
    "from mtl.predict import test_model\n",
    "\n",
    "file_name = 'models/gru_one_task_sentiment_five.h5'\n",
    "num_classes = 5\n",
    "num_classes1 = 2\n",
    "embed_num_dims = 300\n",
    "max_seq_len = 500\n",
    "\n",
    "#change those according to the model you are testing\n",
    "num_of_sentiments = True\n",
    "\n",
    "test_model(file_name, mtl = False, data_y= data_test, data_x=X_test_pad)"
   ]
  },
  {
   "cell_type": "markdown",
   "metadata": {},
   "source": [
    "###Tensorboard"
   ]
  },
  {
   "cell_type": "code",
   "execution_count": 17,
   "metadata": {},
   "outputs": [
    {
     "name": "stdout",
     "output_type": "stream",
     "text": [
      "2022-04-04 16:56:32.407902: E tensorflow/stream_executor/cuda/cuda_driver.cc:271] failed call to cuInit: CUDA_ERROR_NO_DEVICE: no CUDA-capable device is detected\n",
      "TensorBoard 2.7.0 at http://localhost:6006/ (Press CTRL+C to quit)\n",
      "^C\n"
     ]
    }
   ],
   "source": [
    "!tensorboard --logdir=logs/fit --host localhost --port 6006\n",
    "\n",
    "#then open browser and go to: http://localhost:6006"
   ]
  },
  {
   "cell_type": "markdown",
   "metadata": {},
   "source": [
    "##Expiriment Three: MLT 5 Sentiments"
   ]
  },
  {
   "cell_type": "markdown",
   "metadata": {},
   "source": [
    "###Train"
   ]
  },
  {
   "cell_type": "code",
   "execution_count": 3,
   "metadata": {},
   "outputs": [
    {
     "name": "stdout",
     "output_type": "stream",
     "text": [
      "models/mtl_five_sentiments.h5\n",
      "20378\n",
      "Training a mtl_five_sentiments model!\n",
      "Model: \"model\"\n",
      "__________________________________________________________________________________________________\n",
      " Layer (type)                   Output Shape         Param #     Connected to                     \n",
      "==================================================================================================\n",
      " input_1 (InputLayer)           [(None, 500)]        0           []                               \n",
      "                                                                                                  \n",
      " embedding (Embedding)          (None, 500, 300)     6113400     ['input_1[0][0]']                \n",
      "                                                                                                  \n",
      " bidirectional (Bidirectional)  (None, 256)          330240      ['embedding[0][0]']              \n",
      "                                                                                                  \n",
      " s (Dense)                      (None, 5)            1285        ['bidirectional[0][0]']          \n",
      "                                                                                                  \n",
      " e1 (Dense)                     (None, 2)            514         ['bidirectional[0][0]']          \n",
      "                                                                                                  \n",
      " e2 (Dense)                     (None, 2)            514         ['bidirectional[0][0]']          \n",
      "                                                                                                  \n",
      " e3 (Dense)                     (None, 2)            514         ['bidirectional[0][0]']          \n",
      "                                                                                                  \n",
      " e4 (Dense)                     (None, 2)            514         ['bidirectional[0][0]']          \n",
      "                                                                                                  \n",
      " e5 (Dense)                     (None, 2)            514         ['bidirectional[0][0]']          \n",
      "                                                                                                  \n",
      " e6 (Dense)                     (None, 2)            514         ['bidirectional[0][0]']          \n",
      "                                                                                                  \n",
      "==================================================================================================\n",
      "Total params: 6,448,009\n",
      "Trainable params: 334,609\n",
      "Non-trainable params: 6,113,400\n",
      "__________________________________________________________________________________________________\n",
      "Epoch 1/10\n",
      "495/495 [==============================] - 187s 374ms/step - loss: 0.8525 - s_loss: 1.4160 - e1_loss: 0.6921 - e2_loss: 0.5744 - e3_loss: 0.5130 - e4_loss: 0.3303 - e5_loss: 0.4587 - e6_loss: 0.2924 - s_accuracy: 0.4289 - e1_accuracy: 0.5317 - e2_accuracy: 0.7387 - e3_accuracy: 0.7928 - e4_accuracy: 0.8994 - e5_accuracy: 0.8299 - e6_accuracy: 0.9170 - val_loss: 1.6605 - val_s_loss: 1.3518 - val_e1_loss: 0.5881 - val_e2_loss: 1.5582 - val_e3_loss: 1.8304 - val_e4_loss: 2.4081 - val_e5_loss: 1.9375 - val_e6_loss: 2.8753 - val_s_accuracy: 0.4568 - val_e1_accuracy: 0.9639 - val_e2_accuracy: 0.0000e+00 - val_e3_accuracy: 0.0000e+00 - val_e4_accuracy: 0.0000e+00 - val_e5_accuracy: 0.0000e+00 - val_e6_accuracy: 0.0000e+00\n",
      "Epoch 2/10\n",
      "495/495 [==============================] - 199s 402ms/step - loss: 0.8261 - s_loss: 1.3656 - e1_loss: 0.6846 - e2_loss: 0.5668 - e3_loss: 0.5053 - e4_loss: 0.3227 - e5_loss: 0.4335 - e6_loss: 0.2862 - s_accuracy: 0.4340 - e1_accuracy: 0.5539 - e2_accuracy: 0.7417 - e3_accuracy: 0.7942 - e4_accuracy: 0.9009 - e5_accuracy: 0.8307 - e6_accuracy: 0.9176 - val_loss: 1.5502 - val_s_loss: 1.3107 - val_e1_loss: 0.6020 - val_e2_loss: 1.4435 - val_e3_loss: 1.6246 - val_e4_loss: 2.3202 - val_e5_loss: 1.7881 - val_e6_loss: 2.4801 - val_s_accuracy: 0.4650 - val_e1_accuracy: 0.7938 - val_e2_accuracy: 0.0000e+00 - val_e3_accuracy: 0.0000e+00 - val_e4_accuracy: 0.0000e+00 - val_e5_accuracy: 0.0126 - val_e6_accuracy: 0.0000e+00\n",
      "Epoch 3/10\n",
      "495/495 [==============================] - 197s 398ms/step - loss: 0.8089 - s_loss: 1.3318 - e1_loss: 0.6755 - e2_loss: 0.5610 - e3_loss: 0.5013 - e4_loss: 0.3199 - e5_loss: 0.4194 - e6_loss: 0.2852 - s_accuracy: 0.4387 - e1_accuracy: 0.5747 - e2_accuracy: 0.7429 - e3_accuracy: 0.7942 - e4_accuracy: 0.9009 - e5_accuracy: 0.8325 - e6_accuracy: 0.9176 - val_loss: 1.6130 - val_s_loss: 1.2803 - val_e1_loss: 0.6642 - val_e2_loss: 1.4687 - val_e3_loss: 1.6822 - val_e4_loss: 2.4362 - val_e5_loss: 2.0187 - val_e6_loss: 2.7385 - val_s_accuracy: 0.4688 - val_e1_accuracy: 0.6876 - val_e2_accuracy: 0.0055 - val_e3_accuracy: 0.0000e+00 - val_e4_accuracy: 0.0000e+00 - val_e5_accuracy: 0.0131 - val_e6_accuracy: 0.0000e+00\n",
      "Epoch 4/10\n",
      "495/495 [==============================] - 197s 399ms/step - loss: 0.8020 - s_loss: 1.3177 - e1_loss: 0.6707 - e2_loss: 0.5583 - e3_loss: 0.5014 - e4_loss: 0.3194 - e5_loss: 0.4182 - e6_loss: 0.2810 - s_accuracy: 0.4411 - e1_accuracy: 0.5907 - e2_accuracy: 0.7427 - e3_accuracy: 0.7937 - e4_accuracy: 0.9010 - e5_accuracy: 0.8337 - e6_accuracy: 0.9176 - val_loss: 1.5619 - val_s_loss: 1.2727 - val_e1_loss: 0.7093 - val_e2_loss: 1.3736 - val_e3_loss: 1.5400 - val_e4_loss: 2.3935 - val_e5_loss: 1.9011 - val_e6_loss: 2.6111 - val_s_accuracy: 0.4732 - val_e1_accuracy: 0.5481 - val_e2_accuracy: 0.0120 - val_e3_accuracy: 0.0000e+00 - val_e4_accuracy: 0.0000e+00 - val_e5_accuracy: 0.0093 - val_e6_accuracy: 0.0000e+00\n",
      "Epoch 5/10\n",
      "495/495 [==============================] - 197s 398ms/step - loss: 0.7952 - s_loss: 1.3052 - e1_loss: 0.6667 - e2_loss: 0.5568 - e3_loss: 0.4993 - e4_loss: 0.3166 - e5_loss: 0.4147 - e6_loss: 0.2773 - s_accuracy: 0.4461 - e1_accuracy: 0.5939 - e2_accuracy: 0.7424 - e3_accuracy: 0.7944 - e4_accuracy: 0.9010 - e5_accuracy: 0.8324 - e6_accuracy: 0.9176 - val_loss: 1.6060 - val_s_loss: 1.2612 - val_e1_loss: 0.6856 - val_e2_loss: 1.3674 - val_e3_loss: 1.5497 - val_e4_loss: 2.6095 - val_e5_loss: 1.9059 - val_e6_loss: 2.8968 - val_s_accuracy: 0.4781 - val_e1_accuracy: 0.6472 - val_e2_accuracy: 0.0503 - val_e3_accuracy: 0.0055 - val_e4_accuracy: 0.0000e+00 - val_e5_accuracy: 0.0580 - val_e6_accuracy: 0.0000e+00\n",
      "Epoch 6/10\n",
      "495/495 [==============================] - 190s 384ms/step - loss: 0.7900 - s_loss: 1.2952 - e1_loss: 0.6622 - e2_loss: 0.5566 - e3_loss: 0.4979 - e4_loss: 0.3153 - e5_loss: 0.4123 - e6_loss: 0.2747 - s_accuracy: 0.4459 - e1_accuracy: 0.5990 - e2_accuracy: 0.7432 - e3_accuracy: 0.7942 - e4_accuracy: 0.9011 - e5_accuracy: 0.8341 - e6_accuracy: 0.9176 - val_loss: 1.5613 - val_s_loss: 1.2608 - val_e1_loss: 0.5857 - val_e2_loss: 1.4344 - val_e3_loss: 1.7818 - val_e4_loss: 2.2497 - val_e5_loss: 1.9878 - val_e6_loss: 2.5302 - val_s_accuracy: 0.4721 - val_e1_accuracy: 0.7664 - val_e2_accuracy: 0.0098 - val_e3_accuracy: 5.4705e-04 - val_e4_accuracy: 0.0000e+00 - val_e5_accuracy: 0.0131 - val_e6_accuracy: 0.0000e+00\n",
      "Epoch 7/10\n",
      "495/495 [==============================] - 190s 384ms/step - loss: 0.7856 - s_loss: 1.2870 - e1_loss: 0.6619 - e2_loss: 0.5542 - e3_loss: 0.4968 - e4_loss: 0.3141 - e5_loss: 0.4084 - e6_loss: 0.2726 - s_accuracy: 0.4513 - e1_accuracy: 0.5973 - e2_accuracy: 0.7446 - e3_accuracy: 0.7944 - e4_accuracy: 0.9011 - e5_accuracy: 0.8345 - e6_accuracy: 0.9176 - val_loss: 1.5286 - val_s_loss: 1.2483 - val_e1_loss: 0.7188 - val_e2_loss: 1.3540 - val_e3_loss: 1.4692 - val_e4_loss: 2.3212 - val_e5_loss: 1.9988 - val_e6_loss: 2.4308 - val_s_accuracy: 0.4748 - val_e1_accuracy: 0.5399 - val_e2_accuracy: 0.0170 - val_e3_accuracy: 0.0022 - val_e4_accuracy: 0.0000e+00 - val_e5_accuracy: 0.0170 - val_e6_accuracy: 0.0000e+00\n",
      "Epoch 8/10\n",
      "495/495 [==============================] - 190s 384ms/step - loss: 0.7829 - s_loss: 1.2817 - e1_loss: 0.6592 - e2_loss: 0.5535 - e3_loss: 0.4967 - e4_loss: 0.3128 - e5_loss: 0.4083 - e6_loss: 0.2723 - s_accuracy: 0.4529 - e1_accuracy: 0.6002 - e2_accuracy: 0.7429 - e3_accuracy: 0.7938 - e4_accuracy: 0.9010 - e5_accuracy: 0.8339 - e6_accuracy: 0.9176 - val_loss: 1.6284 - val_s_loss: 1.2468 - val_e1_loss: 0.6193 - val_e2_loss: 1.4358 - val_e3_loss: 1.8884 - val_e4_loss: 2.5218 - val_e5_loss: 2.0970 - val_e6_loss: 2.7340 - val_s_accuracy: 0.4770 - val_e1_accuracy: 0.7216 - val_e2_accuracy: 0.0038 - val_e3_accuracy: 0.0000e+00 - val_e4_accuracy: 0.0000e+00 - val_e5_accuracy: 0.0104 - val_e6_accuracy: 0.0000e+00\n",
      "Epoch 9/10\n",
      "495/495 [==============================] - 212s 428ms/step - loss: 0.7788 - s_loss: 1.2739 - e1_loss: 0.6562 - e2_loss: 0.5529 - e3_loss: 0.4951 - e4_loss: 0.3125 - e5_loss: 0.4058 - e6_loss: 0.2704 - s_accuracy: 0.4545 - e1_accuracy: 0.6090 - e2_accuracy: 0.7443 - e3_accuracy: 0.7941 - e4_accuracy: 0.9011 - e5_accuracy: 0.8342 - e6_accuracy: 0.9176 - val_loss: 1.4959 - val_s_loss: 1.2477 - val_e1_loss: 0.7153 - val_e2_loss: 1.2995 - val_e3_loss: 1.4510 - val_e4_loss: 2.2637 - val_e5_loss: 1.8119 - val_e6_loss: 2.4264 - val_s_accuracy: 0.4852 - val_e1_accuracy: 0.5804 - val_e2_accuracy: 0.0208 - val_e3_accuracy: 0.0060 - val_e4_accuracy: 0.0000e+00 - val_e5_accuracy: 0.0416 - val_e6_accuracy: 0.0000e+00\n",
      "Epoch 10/10\n",
      "495/495 [==============================] - 199s 401ms/step - loss: 0.7755 - s_loss: 1.2667 - e1_loss: 0.6546 - e2_loss: 0.5529 - e3_loss: 0.4941 - e4_loss: 0.3117 - e5_loss: 0.4034 - e6_loss: 0.2718 - s_accuracy: 0.4599 - e1_accuracy: 0.6070 - e2_accuracy: 0.7437 - e3_accuracy: 0.7940 - e4_accuracy: 0.9010 - e5_accuracy: 0.8349 - e6_accuracy: 0.9176 - val_loss: 1.5613 - val_s_loss: 1.2684 - val_e1_loss: 0.6915 - val_e2_loss: 1.3649 - val_e3_loss: 1.6193 - val_e4_loss: 2.2346 - val_e5_loss: 1.8341 - val_e6_loss: 2.7951 - val_s_accuracy: 0.4683 - val_e1_accuracy: 0.6094 - val_e2_accuracy: 0.0224 - val_e3_accuracy: 0.0049 - val_e4_accuracy: 0.0000e+00 - val_e5_accuracy: 0.0618 - val_e6_accuracy: 0.0000e+00\n"
     ]
    }
   ],
   "source": [
    "from mtl.network import net\n",
    "from mtl.train import train_model\n",
    "from tensorboard.plugins.hparams import api as hp\n",
    "model_name = 'mtl_five_sentiments'\n",
    "saved_model_name = 'models/'+ model_name + '.h5'\n",
    "print('models/'+ model_name + '.h5')\n",
    "batch_size=32\n",
    "epochs=10\n",
    "gru_output_size=128\n",
    "dropout=0.2\n",
    "recurrent_dropout=0.2\n",
    "tensorboard = True\n",
    "loss_weights = [0.4, 0.1, 0.1, 0.1, 0.1, 0.1, 0.1]\n",
    "print(vocab_size)\n",
    "\n",
    "\n",
    "train_model(vocab_size = vocab_size, embedd_matrix = embedd_matrix, data_x = X_train_pad, data_y = y_mtl_train, val_x = X_val_pad, val_y = y_mtl_val, model_name=model_name, saved_model_name=saved_model_name, batch_size=32, epochs=epochs, tensorboard=tensorboard, loss_weights=loss_weights)"
   ]
  },
  {
   "cell_type": "markdown",
   "metadata": {},
   "source": [
    "###Predict"
   ]
  },
  {
   "cell_type": "code",
   "execution_count": 4,
   "metadata": {},
   "outputs": [
    {
     "name": "stdout",
     "output_type": "stream",
     "text": [
      "(5,)\n",
      "Accuracy: 43.75%\n",
      "\n",
      "F1 Score: 43.75\n"
     ]
    }
   ],
   "source": [
    "#predict\n",
    "from mtl.predict import test_model\n",
    "\n",
    "file_name = 'models/mtl_five_sentiments.h5'\n",
    "num_classes = 5\n",
    "num_classes1 = 2\n",
    "embed_num_dims = 300\n",
    "max_seq_len = 500\n",
    "\n",
    "#change those according to the model you are testing\n",
    "num_of_sentiments = True\n",
    "\n",
    "test_model(file_name, mtl = True, data_y= data_test, data_x=X_test_pad)"
   ]
  },
  {
   "cell_type": "markdown",
   "metadata": {},
   "source": [
    "###Tensorboard"
   ]
  },
  {
   "cell_type": "code",
   "execution_count": 5,
   "metadata": {},
   "outputs": [
    {
     "name": "stdout",
     "output_type": "stream",
     "text": [
      "2022-04-04 19:18:29.879191: E tensorflow/stream_executor/cuda/cuda_driver.cc:271] failed call to cuInit: CUDA_ERROR_NO_DEVICE: no CUDA-capable device is detected\n",
      "TensorBoard 2.7.0 at http://localhost:6006/ (Press CTRL+C to quit)\n",
      "^C\n"
     ]
    }
   ],
   "source": [
    "!tensorboard --logdir=logs/fit --host localhost --port 6006\n",
    "\n",
    "#then open browser and go to: http://localhost:6006"
   ]
  }
 ],
 "metadata": {
  "interpreter": {
   "hash": "e7370f93d1d0cde622a1f8e1c04877d8463912d04d973331ad4851f04de6915a"
  },
  "kernelspec": {
   "display_name": "Python 3.8.10 64-bit",
   "language": "python",
   "name": "python3"
  },
  "language_info": {
   "codemirror_mode": {
    "name": "ipython",
    "version": 3
   },
   "file_extension": ".py",
   "mimetype": "text/x-python",
   "name": "python",
   "nbconvert_exporter": "python",
   "pygments_lexer": "ipython3",
   "version": "3.8.10"
  },
  "orig_nbformat": 4
 },
 "nbformat": 4,
 "nbformat_minor": 2
}
