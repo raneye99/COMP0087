{
 "cells": [
  {
   "cell_type": "code",
   "execution_count": 1,
   "metadata": {},
   "outputs": [],
   "source": [
    "#import libraries\n",
    "import pickle\n",
    "from collections import defaultdict\n",
    "from urllib.request import urlopen\n",
    "import numpy as np\n",
    "import pandas as pd\n",
    "import os\n",
    "import h5py\n",
    "import sys\n",
    "import requests\n",
    "import zipfile\n",
    "import inspect"
   ]
  },
  {
   "cell_type": "code",
   "execution_count": 2,
   "metadata": {},
   "outputs": [],
   "source": [
    "#download data\n",
    "\n",
    "#file located here: https://drive.google.com/file/d/1tcVYIMcZdlDzGuJvnMtbMchKIK9ulW1P/view\n",
    "\n",
    "#make data directory if doesn't exist in path folder\n",
    "os.makedirs('data', exist_ok=True)\n",
    "\n",
    "#download meld and mosei zip files for data (mosei is from CMU, meld is friends episodes)\n",
    "if('mosei' in  os.listdir('data')):\n",
    "    pass\n",
    "else:\n",
    "    !file=1tcVYIMcZdlDzGuJvnMtbMchKIK9ulW1P && wget --load-cookies /tmp/cookies.txt \"https://docs.google.com/uc?export=download&confirm=$(wget --quiet --save-cookies /tmp/cookies.txt --keep-session-cookies --no-check-certificate 'https://docs.google.com/uc?export=download&id='${file} -O- | sed -rn 's/.*confirm=([0-9A-Za-z_]+).*/\\1\\n/p')&id=\"${file} -O data/data.zip && rm -rf /tmp/cookies.txt\n",
    "\n",
    "    #unzip data\n",
    "    !unzip data/data.zip -d data/mosei"
   ]
  },
  {
   "cell_type": "code",
   "execution_count": 3,
   "metadata": {},
   "outputs": [
    {
     "name": "stderr",
     "output_type": "stream",
     "text": [
      "[nltk_data] Downloading package punkt to /home/eileen/nltk_data...\n",
      "[nltk_data]   Package punkt is already up-to-date!\n"
     ]
    },
    {
     "name": "stdout",
     "output_type": "stream",
     "text": [
      "Training data sentiment statistics\n",
      "4.0    4120\n",
      "3.0    3000\n",
      "2.0    2040\n",
      "5.0    1549\n",
      "1.0    1305\n",
      "Name: sentiment, dtype: int64\n",
      "Test data sentiment statistics\n",
      "3.0    1927\n",
      "4.0    1230\n",
      "2.0     554\n",
      "5.0     441\n",
      "1.0     399\n",
      "Name: sentiment, dtype: int64\n",
      "Validation data sentiment statistics\n",
      "3.0    835\n",
      "4.0    470\n",
      "2.0    244\n",
      "5.0    169\n",
      "1.0    110\n",
      "Name: sentiment, dtype: int64\n",
      "[ 'hi ' 'umm ' 'today ' 'the ' 'product ' 'that ' `` i 'm '' 'going ' 'to ' 'review' 'is ' ' a ' 'sp ' 'this ' 'is ' ]\n",
      "Number of unique words: 18313\n",
      "{'1.0': 0, '2.0': 1, '3.0': 2, '4.0': 3, '5.0': 4}\n",
      "Words found in wiki vocab: 651\n",
      "New words found: 17662\n"
     ]
    }
   ],
   "source": [
    "#preprocess data\n",
    "from mtl.preprocess import clean_text, create_embedding_matrix, data_processing\n",
    "\n",
    "X_train, X_test, X_train_pad, X_test_pad, y_train, y_test, y_train1, y_test1, y_train2, y_test2, y_train3, y_test3, y_train4, y_test4, y_train5, y_test5, y_train6, y_test6, embedd_matrix, vocab_size, X_val, X_val_pad, y_val, y_val1, y_val2, y_val3, y_val4, y_val5, y_val6, data_test = data_processing()\n",
    "\n",
    "y_mtl_train = (y_train, y_train1, y_train2, y_train3, y_train4, y_train5, y_train6 )\n",
    "y_mtl_val = (y_val, y_val1, y_val2, y_val3, y_val4, y_val5, y_val6)\n",
    "\n",
    "y_emo_train = (y_train1, y_train2, y_train3, y_train4, y_train5, y_train6 )\n",
    "y_emo_val = (y_val1, y_val2, y_val3, y_val4, y_val5, y_val6)\n"
   ]
  },
  {
   "cell_type": "code",
   "execution_count": 4,
   "metadata": {},
   "outputs": [
    {
     "name": "stdout",
     "output_type": "stream",
     "text": [
      "models/mtl_five_sentiments20220404-124243.h5\n",
      "18314\n",
      "Training a mtl_five_sentiments model!\n",
      "Model: \"model\"\n",
      "__________________________________________________________________________________________________\n",
      " Layer (type)                   Output Shape         Param #     Connected to                     \n",
      "==================================================================================================\n",
      " input_1 (InputLayer)           [(None, 500)]        0           []                               \n",
      "                                                                                                  \n",
      " embedding (Embedding)          (None, 500, 300)     5494200     ['input_1[0][0]']                \n",
      "                                                                                                  \n",
      " bidirectional (Bidirectional)  (None, 256)          330240      ['embedding[0][0]']              \n",
      "                                                                                                  \n",
      " s (Dense)                      (None, 5)            1285        ['bidirectional[0][0]']          \n",
      "                                                                                                  \n",
      " e1 (Dense)                     (None, 2)            514         ['bidirectional[0][0]']          \n",
      "                                                                                                  \n",
      " e2 (Dense)                     (None, 2)            514         ['bidirectional[0][0]']          \n",
      "                                                                                                  \n",
      " e3 (Dense)                     (None, 2)            514         ['bidirectional[0][0]']          \n",
      "                                                                                                  \n",
      " e4 (Dense)                     (None, 2)            514         ['bidirectional[0][0]']          \n",
      "                                                                                                  \n",
      " e5 (Dense)                     (None, 2)            514         ['bidirectional[0][0]']          \n",
      "                                                                                                  \n",
      " e6 (Dense)                     (None, 2)            514         ['bidirectional[0][0]']          \n",
      "                                                                                                  \n",
      "==================================================================================================\n",
      "Total params: 5,828,809\n",
      "Trainable params: 334,609\n",
      "Non-trainable params: 5,494,200\n",
      "__________________________________________________________________________________________________\n",
      "Epoch 1/2\n",
      "376/376 [==============================] - 302s 796ms/step - loss: 0.9027 - s_loss: 1.5261 - e1_loss: 0.6843 - e2_loss: 0.5824 - e3_loss: 0.5290 - e4_loss: 0.3464 - e5_loss: 0.5066 - e6_loss: 0.2738 - s_accuracy: 0.3380 - e1_accuracy: 0.5647 - e2_accuracy: 0.7356 - e3_accuracy: 0.7819 - e4_accuracy: 0.8948 - e5_accuracy: 0.7982 - e6_accuracy: 0.9239 - val_loss: 1.6185 - val_s_loss: 1.4245 - val_e1_loss: 0.4977 - val_e2_loss: 1.3229 - val_e3_loss: 1.7560 - val_e4_loss: 2.1929 - val_e5_loss: 1.8433 - val_e6_loss: 2.8744 - val_s_accuracy: 0.2664 - val_e1_accuracy: 0.9995 - val_e2_accuracy: 0.0000e+00 - val_e3_accuracy: 0.0000e+00 - val_e4_accuracy: 0.0000e+00 - val_e5_accuracy: 0.0000e+00 - val_e6_accuracy: 0.0000e+00\n",
      "Epoch 2/2\n",
      "376/376 [==============================] - 272s 723ms/step - loss: 0.8761 - s_loss: 1.4789 - e1_loss: 0.6704 - e2_loss: 0.5735 - e3_loss: 0.5203 - e4_loss: 0.3365 - e5_loss: 0.4835 - e6_loss: 0.2616 - s_accuracy: 0.3653 - e1_accuracy: 0.5952 - e2_accuracy: 0.7354 - e3_accuracy: 0.7821 - e4_accuracy: 0.8948 - e5_accuracy: 0.7980 - e6_accuracy: 0.9273 - val_loss: 1.5940 - val_s_loss: 1.4128 - val_e1_loss: 0.5689 - val_e2_loss: 1.3687 - val_e3_loss: 1.5761 - val_e4_loss: 2.3908 - val_e5_loss: 1.8827 - val_e6_loss: 2.5015 - val_s_accuracy: 0.2932 - val_e1_accuracy: 0.8452 - val_e2_accuracy: 0.0000e+00 - val_e3_accuracy: 0.0000e+00 - val_e4_accuracy: 0.0000e+00 - val_e5_accuracy: 0.0011 - val_e6_accuracy: 0.0000e+00\n"
     ]
    }
   ],
   "source": [
    "#train\n",
    "\n",
    "from mtl.network import net\n",
    "from mtl.train import train_model\n",
    "from tensorboard.plugins.hparams import api as hp\n",
    "import datetime\n",
    "\n",
    "model_name = 'mtl_five_sentiments'\n",
    "saved_model_name = 'models/'+ model_name + datetime.datetime.now().strftime(\"%Y%m%d-%H%M%S\") + '.h5'\n",
    "print('models/'+ model_name + datetime.datetime.now().strftime(\"%Y%m%d-%H%M%S\") + '.h5')\n",
    "batch_size=32\n",
    "epochs=2\n",
    "gru_output_size=128\n",
    "dropout=0.2\n",
    "recurrent_dropout=0.2\n",
    "tensorboard = False\n",
    "loss_weights = [0.4, 0.1, 0.1, 0.1, 0.1, 0.1, 0.1]\n",
    "print(vocab_size)\n",
    "\n",
    "\n",
    "train_model(vocab_size = vocab_size, embedd_matrix = embedd_matrix, data_x = X_train_pad, data_y = y_mtl_train, val_x = X_val_pad, val_y = y_mtl_val, model_name=model_name, saved_model_name=saved_model_name, batch_size=32, epochs=2, tensorboard=tensorboard, loss_weights=loss_weights)"
   ]
  },
  {
   "cell_type": "code",
   "execution_count": null,
   "metadata": {},
   "outputs": [],
   "source": [
    "#predict"
   ]
  }
 ],
 "metadata": {
  "interpreter": {
   "hash": "e7370f93d1d0cde622a1f8e1c04877d8463912d04d973331ad4851f04de6915a"
  },
  "kernelspec": {
   "display_name": "Python 3.8.10 64-bit",
   "language": "python",
   "name": "python3"
  },
  "language_info": {
   "codemirror_mode": {
    "name": "ipython",
    "version": 3
   },
   "file_extension": ".py",
   "mimetype": "text/x-python",
   "name": "python",
   "nbconvert_exporter": "python",
   "pygments_lexer": "ipython3",
   "version": "3.8.10"
  },
  "orig_nbformat": 4
 },
 "nbformat": 4,
 "nbformat_minor": 2
}
