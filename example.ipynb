{
  "nbformat": 4,
  "nbformat_minor": 0,
  "metadata": {
    "colab": {
      "name": "Untitled5.ipynb",
      "provenance": [],
      "authorship_tag": "ABX9TyOKT0ewhPBeEuwwUp4eXQgY",
      "include_colab_link": true
    },
    "kernelspec": {
      "name": "python3",
      "display_name": "Python 3"
    },
    "language_info": {
      "name": "python"
    }
  },
  "cells": [
    {
      "cell_type": "markdown",
      "metadata": {
        "id": "view-in-github",
        "colab_type": "text"
      },
      "source": [
        "<a href=\"https://colab.research.google.com/github/raneye99/COMP0087/blob/main/example.ipynb\" target=\"_parent\"><img src=\"https://colab.research.google.com/assets/colab-badge.svg\" alt=\"Open In Colab\"/></a>"
      ]
    },
    {
      "cell_type": "code",
      "execution_count": 1,
      "metadata": {
        "colab": {
          "base_uri": "https://localhost:8080/"
        },
        "id": "fBdyhbwbl167",
        "outputId": "c59323cc-3ca1-4b0a-a0d6-0932bf0d71c9"
      },
      "outputs": [
        {
          "output_type": "stream",
          "name": "stdout",
          "text": [
            "Mounted at /content/drive\n",
            "changing directory to: /content/drive/MyDrive/NLP/COMP0087\n",
            "Your branch is up to date with 'origin/main'.\n",
            "\n",
            "Updating 6bdefc6..9057517\n",
            "Fast-forward\n",
            " mtl/preprocess.py | 16 ++++++++--------\n",
            " 1 file changed, 8 insertions(+), 8 deletions(-)\n",
            "\n",
            "adding /content/drive/MyDrive/NLP/COMP0087 to sys.path\n"
          ]
        }
      ],
      "source": [
        "#set up\n",
        "gdrive_location = \"/content/drive/MyDrive/NLP\"\n",
        "pat_file = \"pat.json\"\n",
        "import subprocess\n",
        "import json\n",
        "from google.colab import drive\n",
        "import os\n",
        "import sys\n",
        "\n",
        "\n",
        "gdrive_mount = '/content/drive'\n",
        "# requires giving access to google drive account\n",
        "drive.mount(gdrive_mount)\n",
        "\n",
        "# change to relevant workspace \n",
        "# - google drive dir - where 'pat_file' should be found\n",
        "gdrive_dir = os.path.join(gdrive_mount, gdrive_location)\n",
        "work_dir = gdrive_dir\n",
        "\n",
        "#url for repo\n",
        "url = \":x-oauth-basic@github.com/raneye99/COMP0087\"\n",
        "\n",
        "#repo directory\n",
        "repo_dir = os.path.join(gdrive_dir, os.path.basename(url))\n",
        "\n",
        "# change to working directory\n",
        "# os.chdir(work_dir)\n",
        "assert os.path.exists(work_dir), f\"workspace directory: {work_dir} does not exist\"\n",
        "os.chdir(work_dir)\n",
        "# this is a bit long - would be good to reduce\n",
        "# if git directory does not exist - clone \n",
        "if not os.path.exists(repo_dir):\n",
        "    # get pat file - expected to be in work_dir\n",
        "    # pat expected to be dict: {\"pat\": \"<personal access token>\"}\n",
        "    with open(os.path.join(gdrive_dir, pat_file), \"r+\") as f:\n",
        "        pat = json.load(f)\n",
        "\n",
        "    # git clone\n",
        "    print(f\"cloning directory: {url}\")\n",
        "    git_clone = subprocess.check_output( [\"git\", \"clone\", f\"https://{pat['pat']}{url}\"] , shell=False)\n",
        "    print(git_clone)\n",
        "\n",
        "print(f\"changing directory to: {repo_dir}\")\n",
        "os.chdir(repo_dir)\n",
        "\n",
        "# --\n",
        "# change branch - review this\n",
        "# --\n",
        "\n",
        "try:\n",
        "    branch_name = \"main\"\n",
        "    git_checkout = subprocess.check_output([\"git\", \"checkout\", \"-t\", f\"origin/{branch_name}\"], shell=False)\n",
        "    print(git_checkout.decode(\"utf-8\") )\n",
        "except Exception as e:\n",
        "    git_checkout = subprocess.check_output([\"git\", \"checkout\",  f\"{branch_name}\"], shell=False)\n",
        "    print(git_checkout.decode(\"utf-8\") )\n",
        "\n",
        "# ---\n",
        "# git pull\n",
        "# ---\n",
        "# could be redunant if just clone, but whatever\n",
        "\n",
        "git_pull = subprocess.check_output([\"git\", \"pull\"], shell=False)\n",
        "print(git_pull.decode(\"utf-8\") )\n",
        "\n",
        "\n",
        "if repo_dir not in sys.path:\n",
        "    print(f\"adding {repo_dir} to sys.path\")\n",
        "    sys.path.extend([repo_dir])\n"
      ]
    },
    {
      "cell_type": "code",
      "source": [
        "#import libraries\n",
        "import pickle\n",
        "from collections import defaultdict\n",
        "from urllib.request import urlopen\n",
        "import numpy as np\n",
        "import pandas as pd\n",
        "import os\n",
        "import h5py\n",
        "import sys\n",
        "import requests\n",
        "import zipfile\n",
        "import inspect"
      ],
      "metadata": {
        "id": "ALYAb53bticz"
      },
      "execution_count": 2,
      "outputs": []
    },
    {
      "cell_type": "code",
      "source": [
        "#load data\n",
        "\n",
        "#file located here: https://drive.google.com/file/d/1tcVYIMcZdlDzGuJvnMtbMchKIK9ulW1P/view\n",
        "\n",
        "#make data directory if doesn't exist in path folder\n",
        "os.makedirs('data', exist_ok=True)\n",
        "\n",
        "#download meld and mosei zip files for data (mosei is from CMU, meld is friends episodes)\n",
        "if('mosei' in  os.listdir('data')):\n",
        "    pass\n",
        "else:\n",
        "    !file=1tcVYIMcZdlDzGuJvnMtbMchKIK9ulW1P && wget --load-cookies /tmp/cookies.txt \"https://docs.google.com/uc?export=download&confirm=$(wget --quiet --save-cookies /tmp/cookies.txt --keep-session-cookies --no-check-certificate 'https://docs.google.com/uc?export=download&id='${file} -O- | sed -rn 's/.*confirm=([0-9A-Za-z_]+).*/\\1\\n/p')&id=\"${file} -O data/data.zip && rm -rf /tmp/cookies.txt\n",
        "\n",
        "    #unzip data\n",
        "    !unzip data/data.zip -d data/mosei"
      ],
      "metadata": {
        "id": "YS610PdruF33"
      },
      "execution_count": 3,
      "outputs": []
    },
    {
      "cell_type": "code",
      "source": [
        "#preprocess\n",
        "from mtl.preprocess import clean_text, create_embedding_matrix, data_processing\n",
        "\n",
        "X_train, X_test, X_train_pad, X_test_pad, y_train, y_test, y_train1, y_test1, y_train2, y_test2, y_train3, y_test3, y_train4, y_test4, y_train5, y_test5, y_train6, y_test6, embedd_matrix, vocab_size, X_val, X_val_pad, y_val, y_val1, y_val2, y_val3, y_val4, y_val5, y_val6, data_test = data_processing()\n",
        "\n"
      ],
      "metadata": {
        "id": "4zSashf3uYT8",
        "outputId": "417790f2-893a-43b5-d036-edeaea56b5e7",
        "colab": {
          "base_uri": "https://localhost:8080/"
        }
      },
      "execution_count": 5,
      "outputs": [
        {
          "output_type": "stream",
          "name": "stdout",
          "text": [
            "Training data sentiment statistics\n",
            "4.0    4120\n",
            "3.0    3000\n",
            "2.0    2040\n",
            "5.0    1549\n",
            "1.0    1305\n",
            "Name: sentiment, dtype: int64\n",
            "Test data sentiment statistics\n",
            "3.0    1927\n",
            "4.0    1230\n",
            "2.0     554\n",
            "5.0     441\n",
            "1.0     399\n",
            "Name: sentiment, dtype: int64\n",
            "Validation data sentiment statistics\n",
            "3.0    835\n",
            "4.0    470\n",
            "2.0    244\n",
            "5.0    169\n",
            "1.0    110\n",
            "Name: sentiment, dtype: int64\n",
            "[ 'sp ' `` it 's '' 'does ' 'sp ' 'the ' 'sun ' 'ever ' 'run ' 'out ' 'of ' 'shine' 'does ' 'the ' 'ocean ' 'ever ' 'run ' 'out ' 'of ' 'wet ' 'does ' 'matt ' 'sp' 'smith ' 'sp ' 'ever ' 'run ' 'out ' 'of ' 'chin ' 'sp ' ]\n",
            "Number of unique words: 18315\n",
            "{'1.0': 0, '2.0': 1, '3.0': 2, '4.0': 3, '5.0': 4}\n",
            "Words found in wiki vocab: 653\n",
            "New words found: 17662\n"
          ]
        }
      ]
    },
    {
      "cell_type": "code",
      "source": [
        "\n"
      ],
      "metadata": {
        "id": "-uY7FuM7nY5A"
      },
      "execution_count": 4,
      "outputs": []
    }
  ]
}