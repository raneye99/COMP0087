{
 "cells": [
  {
   "cell_type": "code",
   "execution_count": 2,
   "metadata": {},
   "outputs": [
    {
     "name": "stderr",
     "output_type": "stream",
     "text": [
      "[nltk_data] Downloading package punkt to /home/eileen/nltk_data...\n",
      "[nltk_data]   Package punkt is already up-to-date!\n"
     ]
    }
   ],
   "source": [
    "#import libraries\n",
    "import pickle\n",
    "from collections import defaultdict\n",
    "import numpy as np\n",
    "import pandas as pd\n",
    "import os\n",
    "import h5py\n",
    "import nltk\n",
    "from nltk.tokenize import word_tokenize\n",
    "nltk.download('punkt')\n",
    "# import torch\n",
    "# import torchtext\n",
    "# import torch.nn as nn\n",
    "# import torch.nn.functional as F\n",
    "import keras\n",
    "from keras.preprocessing.text import Tokenizer\n",
    "from keras.preprocessing.sequence import pad_sequences\n",
    "from tensorflow.keras.utils import to_categorical"
   ]
  },
  {
   "cell_type": "code",
   "execution_count": 3,
   "metadata": {},
   "outputs": [
    {
     "data": {
      "text/plain": [
       "['AMAZON_FASHION.json.gz', 'data.zip', 'mosei', 'aclImdb_v1.tar.gz']"
      ]
     },
     "execution_count": 3,
     "metadata": {},
     "output_type": "execute_result"
    }
   ],
   "source": [
    "os.listdir('data')"
   ]
  },
  {
   "cell_type": "code",
   "execution_count": 5,
   "metadata": {},
   "outputs": [],
   "source": [
    "#load data\n",
    "\n",
    "#file located here: https://drive.google.com/file/d/1tcVYIMcZdlDzGuJvnMtbMchKIK9ulW1P/view\n",
    "\n",
    "#make data directory if doesn't exist in path folder\n",
    "os.makedirs('data', exist_ok=True)\n",
    "\n",
    "#download meld and mosei zip files for data (mosei is from CMU, meld is friends episodes)\n",
    "if('mosei' in  os.listdir('data')):\n",
    "    pass\n",
    "else:\n",
    "    !file=1tcVYIMcZdlDzGuJvnMtbMchKIK9ulW1P && wget --load-cookies /tmp/cookies.txt \"https://docs.google.com/uc?export=download&confirm=$(wget --quiet --save-cookies /tmp/cookies.txt --keep-session-cookies --no-check-certificate 'https://docs.google.com/uc?export=download&id='${file} -O- | sed -rn 's/.*confirm=([0-9A-Za-z_]+).*/\\1\\n/p')&id=\"${file} -O data/data.zip && rm -rf /tmp/cookies.txt\n",
    "\n",
    "    #unzip data\n",
    "    !unzip data/data.zip -d data/mosei\n",
    "\n",
    "\n",
    "#train\n",
    "text_tr = pickle.load(open('data/mosei/MOSEI/train_sentences.p',\"rb\"))\n",
    "emotion_tr = pickle.load(open('data/mosei/MOSEI/train_emotion.p', \"rb\"))\n",
    "sentiment_tr = pickle.load(open('data/mosei/MOSEI/train_sentiment.p', \"rb\"))\n",
    "#change sentimement to be binary\n",
    "sentiment_tr = {k: np.sign(v) for k,v in sentiment_tr.items()}\n",
    "\n",
    "\n",
    "#valid\n",
    "text_val = pickle.load(open('data/mosei/MOSEI/valid_sentences.p',\"rb\"))\n",
    "emotion_val = pickle.load(open('data/mosei/MOSEI/valid_emotion.p', \"rb\"))\n",
    "sentiment_val = pickle.load(open('data/mosei/MOSEI/valid_sentiment.p', \"rb\"))\n",
    "#change sentiement to be binary\n",
    "sentiment_val = {k: np.sign(v) for k,v in sentiment_val.items()}"
   ]
  },
  {
   "cell_type": "code",
   "execution_count": 6,
   "metadata": {},
   "outputs": [
    {
     "data": {
      "text/plain": [
       "<bound method NDFrame.head of                                                               text  \\\n",
       "--qXJuDtHPw[0]   [writer, sp, i, see, that, a, writer, is, some...   \n",
       "-571d8cVauQ[0]   [sp, this, is, rhett, reiger, white, caspian, ...   \n",
       "-571d8cVauQ[1]   [create, sp, however, again, on, a, low, budge...   \n",
       "-571d8cVauQ[2]   [was, sp, so, very, important, to, sp, go, out...   \n",
       "-I_e4mIh0yE[0]   [entrepreneurship, sp, in, the, united, states...   \n",
       "...                                                            ...   \n",
       "zjYEBwXGD8I[15]  [sp, with, sp, unlike, some, other, companies,...   \n",
       "zjYEBwXGD8I[16]  [their, fees, you, can, see, all, of, them, on...   \n",
       "zjYEBwXGD8I[17]  [website, sp, they, also, offer, sp, a, money,...   \n",
       "zk2jTlAtvSU[0]   [sp, they, differ, from, the, articles, of, in...   \n",
       "zk2jTlAtvSU[1]   [sp, they, also, discuss, sp, how, many, direc...   \n",
       "\n",
       "                                                      emotion sentiment  \n",
       "--qXJuDtHPw[0]           [0.6666667, 0.0, 0.0, 0.0, 0.0, 0.0]     [1.0]  \n",
       "-571d8cVauQ[0]                 [0.0, 0.0, 0.0, 0.0, 0.0, 0.0]     [0.0]  \n",
       "-571d8cVauQ[1]   [0.33333334, 0.33333334, 0.0, 0.0, 0.0, 0.0]    [-1.0]  \n",
       "-571d8cVauQ[2]          [0.33333334, 0.0, 0.0, 0.0, 0.0, 0.0]     [1.0]  \n",
       "-I_e4mIh0yE[0]          [0.0, 0.33333334, 0.0, 0.0, 0.0, 0.0]    [-1.0]  \n",
       "...                                                       ...       ...  \n",
       "zjYEBwXGD8I[15]                [0.0, 0.0, 0.0, 0.0, 0.0, 0.0]     [1.0]  \n",
       "zjYEBwXGD8I[16]         [0.33333334, 0.0, 0.0, 0.0, 0.0, 0.0]     [1.0]  \n",
       "zjYEBwXGD8I[17]         [0.33333334, 0.0, 0.0, 0.0, 0.0, 0.0]     [1.0]  \n",
       "zk2jTlAtvSU[0]   [0.33333334, 0.0, 0.0, 0.0, 0.0, 0.33333334]     [0.0]  \n",
       "zk2jTlAtvSU[1]    [0.0, 0.6666667, 0.0, 0.0, 0.33333334, 0.0]     [0.0]  \n",
       "\n",
       "[1871 rows x 3 columns]>"
      ]
     },
     "execution_count": 6,
     "metadata": {},
     "output_type": "execute_result"
    }
   ],
   "source": [
    "col_name = ['text','emotion','sentiment']\n",
    "#create pandas dataframe\n",
    "df_train = pd.DataFrame.from_dict([text_tr, emotion_tr, sentiment_tr]).T\n",
    "df_train.columns = col_name\n",
    "df_train.head\n",
    "\n",
    "df_val= pd.DataFrame.from_dict([text_val, emotion_val, sentiment_val]).T\n",
    "df_val.columns = col_name\n",
    "df_val.head"
   ]
  },
  {
   "cell_type": "code",
   "execution_count": 8,
   "metadata": {},
   "outputs": [
    {
     "name": "stdout",
     "output_type": "stream",
     "text": [
      "Distribution of emotions: [0.48713377 0.1608987  0.15779537 0.04880444 0.1243045  0.04050551]\n",
      "Distribution of Sentiment [1.0]     8050\n",
      "[-1.0]    4739\n",
      "[0.0]     3538\n",
      "Name: sentiment, dtype: int64\n"
     ]
    }
   ],
   "source": [
    "#explore training data\n",
    "y1_train = df_train['emotion']\n",
    "y2_train = df_train['sentiment']\n",
    "x_train = df_train['text']\n",
    "\n",
    "print(\"Distribution of emotions:\", y1_train.sum()/len(y1_train))\n",
    "print(\"Distribution of Sentiment\", y2_train.value_counts())"
   ]
  },
  {
   "cell_type": "code",
   "execution_count": 12,
   "metadata": {},
   "outputs": [
    {
     "name": "stdout",
     "output_type": "stream",
     "text": [
      "Distribution of emotion presence: emo1    0.535003\n",
      "emo2    0.261469\n",
      "emo3    0.215961\n",
      "emo4    0.100570\n",
      "emo5    0.180989\n",
      "emo6    0.081521\n",
      "dtype: float32\n"
     ]
    }
   ],
   "source": [
    "#convert vector series into dataframe\n",
    "y1_df = pd.Series(y1_train).apply(lambda x: pd.Series(x))\n",
    "y1_df.columns = ['emo1', 'emo2', 'emo3', 'emo4', 'emo5', 'emo6']\n",
    "\n",
    "#detect presense of emotion\n",
    "y1_presence = y1_df.where(y1_df==0, 1)\n",
    "\n",
    "print(\"Distribution of emotion presence:\", y1_presence.sum()/len(y1_presence))"
   ]
  },
  {
   "cell_type": "code",
   "execution_count": 31,
   "metadata": {},
   "outputs": [],
   "source": [
    "#convert y values to numpy arrays\n",
    "y1_bin_train = y1_presence.to_numpy()\n",
    "y1_val_train = y1_train.to_numpy()\n",
    "\n",
    "y2_train = y2_train.to_numpy()"
   ]
  },
  {
   "cell_type": "code",
   "execution_count": null,
   "metadata": {},
   "outputs": [],
   "source": []
  }
 ],
 "metadata": {
  "interpreter": {
   "hash": "e7370f93d1d0cde622a1f8e1c04877d8463912d04d973331ad4851f04de6915a"
  },
  "kernelspec": {
   "display_name": "Python 3.8.10 64-bit",
   "language": "python",
   "name": "python3"
  },
  "language_info": {
   "codemirror_mode": {
    "name": "ipython",
    "version": 3
   },
   "file_extension": ".py",
   "mimetype": "text/x-python",
   "name": "python",
   "nbconvert_exporter": "python",
   "pygments_lexer": "ipython3",
   "version": "3.8.10"
  },
  "orig_nbformat": 4
 },
 "nbformat": 4,
 "nbformat_minor": 2
}
